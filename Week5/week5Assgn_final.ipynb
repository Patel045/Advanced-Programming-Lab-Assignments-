{
 "cells": [
  {
   "attachments": {},
   "cell_type": "markdown",
   "metadata": {},
   "source": [
    "## Instructions:\n",
    "- This is a simple **.ipynb** file just run it in **jupyter notebook** to show the animation. It will be better if this program is run in a **file** because jupyter notebook sometimes *hangs* while working with animations.\n",
    "- The program is divided into different function so the previous block of code is required for getting the correct output.\n",
    "- Run the code serially to get the desired output."
   ]
  },
  {
   "attachments": {},
   "cell_type": "markdown",
   "metadata": {},
   "source": [
    "## Basic Idea\n",
    "From the video posted on moodle it is clear that one of the vertices of the polygon has the same position at every instant. This point is (1,0). <br>\n",
    "All the other vertices except (1,0) split into two and converge towards the vertices of the bigger polygon. This animation also reverses itslef. <br>\n",
    "So the figure goes like 3 -> 4 -> 5 -> 6-> 7-> 8 -> 7 -> 6 -> 5 -> 4 -> 3.\n",
    "<br><br>\n",
    "To get the corner vertices we could use the concept of complex roots of unity.\n",
    "So nth root (corresponding to n sized polygon) can be calculated using `Euler's Formula` i.e.\n",
    "- x=cos(  (k/n) * (2*pi)  )\n",
    "- y=sin(  (k/n) * (2*pi)  ) \n",
    "<br>\n",
    "where k goes from 0 to n-1."
   ]
  },
  {
   "attachments": {},
   "cell_type": "markdown",
   "metadata": {},
   "source": [
    "## Import\n",
    "Importing the required Libraries like Numpy, Matplotlib and the function Funcanimation."
   ]
  },
  {
   "cell_type": "code",
   "execution_count": 1,
   "metadata": {},
   "outputs": [],
   "source": [
    "# Magic command below to enable interactivity in the JupyterLab interface\n",
    "%matplotlib ipympl\n",
    "# Some basic imports that are useful\n",
    "import numpy as np\n",
    "import matplotlib.pyplot as plt\n",
    "from matplotlib.animation import FuncAnimation\n"
   ]
  },
  {
   "attachments": {},
   "cell_type": "markdown",
   "metadata": {},
   "source": [
    "## User defined Functions\n",
    "I have created some functions that will help in plotting.\n",
    "- `circle(t)` : takes a numpy array as input and returns 2 arrays having x and y coordinates for the circle. <br>\n",
    "- `get_corners(n)` : takes n as the number of sides of the polygon and returns two lists having x and y coordinates of the corners for the particular polygon. This is done by calculating the roots of unity.\n",
    "- `get_smaller_shape(n)` : takes n as the number of sides of the polygon and makes the polygon by returning the x and y cordinate arrays of vertices. Note that some of the verties are repeated. Explanation available below.\n",
    "- `get_bigger_shape(n)` : takes n as the number of sides of the polygon and makes the polygon by returning the x and y cordinate arrays of vertices. Note that some of the verties are repeated. Explanation available below.\n",
    "<br><br>\n",
    "The difference between the get_smaller_shape() and get_bigger_shape() is that the repetition of the vertices is different so that the vertex of smaller polygon splits into two and converges to the vertex of the bigger polygon.\n",
    "<br><br>\n",
    "For example: Consider the case of **Triangle** to **Square**. Say the edges of triangle are A,B,C and those of the square are P,Q,R,S. (common vertex begin A and P) <br><br>\n",
    "Mapping of the vertices is like:\n",
    "- A -> P\n",
    "- B -> Q\n",
    "- B -> R\n",
    "- C -> R\n",
    "- C -> S\n",
    "- A -> P\n",
    "<br><br>So the Shape Arrays will be\n",
    "- triangle : [A,B,B,C,C,A]\n",
    "- square : [P,Q,R,R,S,P]\n",
    "<br>Other cases also have the simillar shape distribution.\n"
   ]
  },
  {
   "cell_type": "code",
   "execution_count": 2,
   "metadata": {},
   "outputs": [],
   "source": [
    "def circle(t):\n",
    "    return np.cos(t), np.sin(t)\n",
    "def get_corners(n):\n",
    "    pts=np.asarray([j for j in range(n)])\n",
    "    xm=np.cos(pts*(2*np.pi/n))\n",
    "    ym=np.sin(pts*(2*np.pi/n))\n",
    "    return xm,ym\n",
    "def get_smaller_shape(n):\n",
    "    xm,ym=get_corners(n)\n",
    "    x=np.asarray(xm[0])\n",
    "    y=np.asarray(ym[0])\n",
    "    for i in range(1,n):\n",
    "        x=np.append(x,xm[i])\n",
    "        x=np.append(x,xm[i])\n",
    "        y=np.append(y,ym[i])\n",
    "        y=np.append(y,ym[i])\n",
    "    x=np.append(x,xm[0])\n",
    "    y=np.append(y,ym[0])\n",
    "    return x,y\n",
    "def get_bigger_shape(n):\n",
    "    xm,ym=get_corners(n)\n",
    "    x=np.asarray(xm[0])\n",
    "    y=np.asarray(ym[0])\n",
    "    x=np.append(x,xm[1])\n",
    "    y=np.append(y,ym[1])\n",
    "    for i in range(2,n-1):\n",
    "        x=np.append(x,xm[i])\n",
    "        x=np.append(x,xm[i])\n",
    "        y=np.append(y,ym[i])\n",
    "        y=np.append(y,ym[i])\n",
    "    x=np.append(x,xm[n-1])\n",
    "    y=np.append(y,ym[n-1])\n",
    "    x=np.append(x,xm[0])\n",
    "    y=np.append(y,ym[0])\n",
    "    return x,y"
   ]
  },
  {
   "attachments": {},
   "cell_type": "markdown",
   "metadata": {},
   "source": [
    "Now using the Sir's code provided on moodle I just changed the frames and the morph function so that the integral value of the frame tells which transitioin is hapenning and the decimal part of the frame tells the alpha to be used for the linear combination of the 2 shapes.<br> Also for clarity I have changed the color of the diagram when a new shape forms."
   ]
  },
  {
   "cell_type": "code",
   "execution_count": 3,
   "metadata": {},
   "outputs": [
    {
     "data": {
      "application/vnd.jupyter.widget-view+json": {
       "model_id": "3f49e991577e49bc9256673ad7b93df7",
       "version_major": 2,
       "version_minor": 0
      },
      "image/png": "[encoded data removed]",
      "text/html": [
       "\n",
       "            <div style=\"display: inline-block;\">\n",
       "                <div class=\"jupyter-widgets widget-label\" style=\"text-align: center;\">\n",
       "                    Figure\n",
       "                </div>\n",
       "                <img src='data:image/png;base64,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' width=640.0/>\n",
       "            </div>\n",
       "        "
      ],
      "text/plain": [
       "Canvas(toolbar=Toolbar(toolitems=[('Home', 'Reset original view', 'home', 'home'), ('Back', 'Back to previous …"
      ]
     },
     "metadata": {},
     "output_type": "display_data"
    }
   ],
   "source": [
    "fig, ax = plt.subplots()\n",
    "xdata, ydata = [], []\n",
    "ln, = ax.plot([], [], 'r')\n",
    "ax.set_aspect('equal',adjustable='box')\n",
    "colours=['red','blue','green','black','orange','orange','black','green','blue','red','red']\n",
    "def init():\n",
    "    #Set the Size of Plot.\n",
    "    ax.set_xlim(-1.2, 1.2)\n",
    "    ax.set_ylim(-1.2, 1.2)\n",
    "    return ln,\n",
    "def update(frame):\n",
    "    # Update the plot for this particular frame\n",
    "    xdata, ydata = morph(frame)\n",
    "    ln.set_data(xdata, ydata)\n",
    "    ln.set_color(colours[int(frame)-1])\n",
    "    return ln,\n",
    "def morph(frame):\n",
    "    if(frame < num):\n",
    "        # Forward Transitions\n",
    "        n=int(frame)\n",
    "        x1,y1=get_smaller_shape(n+2)\n",
    "        x2,y2=get_bigger_shape(n+3)\n",
    "        alpha=frame-n\n",
    "        xm = alpha * x2 + (1-alpha) * x1\n",
    "        ym = alpha * y2 + (1-alpha) * y1\n",
    "        return xm, ym\n",
    "    else:\n",
    "        # Backward Transitions\n",
    "        n=int(frame)\n",
    "        x1,y1=get_bigger_shape(2*num-n + 2)\n",
    "        x2,y2=get_smaller_shape(2*num-n + 1)\n",
    "        alpha=frame-n\n",
    "        xm = alpha * x2 + (1-alpha) * x1\n",
    "        ym = alpha * y2 + (1-alpha) * y1\n",
    "        return xm, ym\n",
    "num=6\n",
    "# xc, yc = circle(np.linspace(0, 2*np.pi, 200))\n",
    "# plt.plot(xc,yc)\n",
    "ani = FuncAnimation(fig, update, frames=np.linspace(1, 2*num-1, (2*num-2)*500),\n",
    "init_func=init, blit=True, interval=10, repeat=False)\n",
    "plt.show()"
   ]
  },
  {
   "attachments": {},
   "cell_type": "markdown",
   "metadata": {},
   "source": [
    "We can uncomment the part of the code which makes Circle to verify the corners indeed lie on the Unit circle and hence the corners are the roots of unity.\n",
    "If we don't what to change the color then just uncomment the part **ln.set_color(colours[int(frame)-1])** in the init() function. This will generate the animation just equivalent to that posted on the moodle."
   ]
  }
 ],
 "metadata": {
  "kernelspec": {
   "display_name": "Python 3",
   "language": "python",
   "name": "python3"
  },
  "language_info": {
   "codemirror_mode": {
    "name": "ipython",
    "version": 3
   },
   "file_extension": ".py",
   "mimetype": "text/x-python",
   "name": "python",
   "nbconvert_exporter": "python",
   "pygments_lexer": "ipython3",
   "version": "3.10.5"
  },
  "orig_nbformat": 4
 },
 "nbformat": 4,
 "nbformat_minor": 2
}
