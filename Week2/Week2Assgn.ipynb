{
 "cells": [
  {
   "attachments": {},
   "cell_type": "markdown",
   "metadata": {},
   "source": [
    "# Assignment Overview\n",
    "\n",
    "The following are the problems needed to be solved for this assignment.\n",
    "\n",
    "- Write a function to find the factorial of N (N being an input) and find the time taken to compute it.  This will obviously depend on where you run the code and which approach you use to implement the factorial.  Explain your observations briefly.\n",
    "- Write a linear equation solver that will take in matrices $A$ and $b$ as inputs, and return the vector $x$ that solves the equation $Ax=b$.  Your function should catch errors in the inputs and return suitable error messages for different possible problems.\n",
    "  - Time your solver to solve a random $10\\times 10$ system of equations.  Compare the time taken against the `numpy.linalg.solve` function for the same inputs.\n",
    "- Given a circuit netlist in the form described above, read it in from a file, construct the appropriate matrices, and use the solver you have written above to obtain the voltages and currents in the circuit.  If you find AC circuits hard to handle, first do this for pure DC circuits, but you should be able to handle both voltage and current sources."
   ]
  },
  {
   "attachments": {},
   "cell_type": "markdown",
   "metadata": {},
   "source": [
    "## Instructions \n",
    "- I have used Python Libraries such as math, cmath, numpy. These libraries should be already installed in the system.\n",
    "- Run the Codes in the order they are. (Do not run any cell randomly from the middle) Because the upcoming code requires functions defined earlier."
   ]
  },
  {
   "attachments": {},
   "cell_type": "markdown",
   "metadata": {},
   "source": [
    "# Factorial of a Number"
   ]
  },
  {
   "attachments": {},
   "cell_type": "markdown",
   "metadata": {},
   "source": [
    "### Recursive Method"
   ]
  },
  {
   "cell_type": "code",
   "execution_count": 1,
   "metadata": {},
   "outputs": [],
   "source": [
    "def factorial_rec(N):\n",
    "    if(N<0):\n",
    "        print(\"Invalid Input\")\n",
    "    if(N==1):\n",
    "        return 1\n",
    "    else:\n",
    "        return N*factorial_rec(N-1)"
   ]
  },
  {
   "attachments": {},
   "cell_type": "markdown",
   "metadata": {},
   "source": [
    "### Iterative Method"
   ]
  },
  {
   "cell_type": "code",
   "execution_count": 2,
   "metadata": {},
   "outputs": [],
   "source": [
    "def factorial_iter(N):\n",
    "    if(N<0):\n",
    "        print(\"Invalid Input\")\n",
    "    fac=1\n",
    "    for num in range(1,N+1):\n",
    "        fac=fac*num\n",
    "    return fac"
   ]
  },
  {
   "attachments": {},
   "cell_type": "markdown",
   "metadata": {},
   "source": [
    "### Comparision"
   ]
  },
  {
   "cell_type": "code",
   "execution_count": 3,
   "metadata": {},
   "outputs": [
    {
     "name": "stdout",
     "output_type": "stream",
     "text": [
      "By Recursive Method : \n",
      "1.12 µs ± 49.5 ns per loop (mean ± std. dev. of 7 runs, 1,000,000 loops each)\n",
      "By Iterative Method : \n",
      "505 ns ± 5.06 ns per loop (mean ± std. dev. of 7 runs, 1,000,000 loops each)\n"
     ]
    }
   ],
   "source": [
    "x=10\n",
    "print(\"By Recursive Method : \")\n",
    "%timeit factorial_rec(x)\n",
    "print(\"By Iterative Method : \")\n",
    "%timeit factorial_iter(x)"
   ]
  },
  {
   "attachments": {},
   "cell_type": "markdown",
   "metadata": {},
   "source": [
    "In general `Recursions` are slow in implementation, because there are too many function calls and the function calls have to be stored in a stack so that it could return to the caller.\n",
    "\n",
    "`Iterative` Methods are faster in general and the approach is intuitive, clean and easy to understand.\n",
    "\n",
    "Here I observed that Recursive Method takes time in orders of **micro seconds**, while the Iterative one took some **nano seconds**. In Recursion, some extra space is also needed to maintain the stack and in some cases there are chances of *Stack Memory Overflow*. \n",
    "\n",
    "***Hence <u>Iterative Method</u> is more efficient***."
   ]
  },
  {
   "attachments": {},
   "cell_type": "markdown",
   "metadata": {},
   "source": [
    "# Gauss Elimination"
   ]
  },
  {
   "attachments": {},
   "cell_type": "markdown",
   "metadata": {},
   "source": [
    "The task is to solve a Matrix Equation **Ax=B** where \n",
    "- A is a (M X N) Matrix \n",
    "- x is a (N X 1) Matrix\n",
    "- B is a (M X 1) Matrix\n"
   ]
  },
  {
   "attachments": {},
   "cell_type": "markdown",
   "metadata": {},
   "source": [
    "In Gauss Elimination Method there are basically Two Steps : \n",
    "- **Forward Elimination** :\n",
    "    We apply some operations and make the Matrix A in Echelon Form (Upper Triangular Matrix with diagonal elements normalized to 1).\n",
    "- **Backward Substitution** :\n",
    "    We substitute the values back one by one starting from the lowest row to the upper row."
   ]
  },
  {
   "attachments": {},
   "cell_type": "markdown",
   "metadata": {},
   "source": [
    "## Forward Elimination"
   ]
  },
  {
   "cell_type": "code",
   "execution_count": 1,
   "metadata": {},
   "outputs": [],
   "source": [
    "def Forward_Elimination(A,B):\n",
    "    N=len(A[0])     # Number of Variables\n",
    "    M=len(A)        # Number of Equations\n",
    "    flag=\"Unique Solution\"\n",
    "    for row in range(0,N):\n",
    "        #Check if Normalization Possible\n",
    "        if(abs(A[row][row])<=2e-19):\n",
    "            #Find where its non-0\n",
    "            swapped=False\n",
    "            for dummy_row in range(row+1,M):\n",
    "                if(abs(A[dummy_row][row])>2e-19):\n",
    "                    #Swap\n",
    "                    A[dummy_row],A[row]=A[row],A[dummy_row]\n",
    "                    B[dummy_row],B[row]=B[row],B[dummy_row]\n",
    "                    swapped=True\n",
    "                    break\n",
    "            if(swapped==False):\n",
    "                #No Unique Solution\n",
    "                flag=No_Unique_Solution(A,B)\n",
    "                return A,B,flag\n",
    "        divisor=A[row][row]\n",
    "        #Normalization\n",
    "        for col in range(row,N):\n",
    "            A[row][col]/=divisor\n",
    "        B[row]/=divisor\n",
    "        #Elimination\n",
    "        for next_rows in range(row+1,M):\n",
    "            multiplier=A[next_rows][row]\n",
    "            for col in range(row,N):\n",
    "                A[next_rows][col]-=multiplier*A[row][col]\n",
    "            B[next_rows]-=multiplier*B[row]\n",
    "    flag=No_Unique_Solution(A,B)\n",
    "    return A,B,flag"
   ]
  },
  {
   "attachments": {},
   "cell_type": "markdown",
   "metadata": {},
   "source": [
    "This function `Forward_Elimination()` takes in arguments A and B which are matrices of the form **(M X N)** and **(M X 1)**.\n",
    "<br>\n",
    "Firstly, it iterates through each row and *normalizes* it.<br>\n",
    "Then it does some *row-operations* on the rows after it to reduce those coefficients to 0.<br>\n",
    "\n",
    "In the *Normalization Step*, if it find that the normalizing factor i.e the A[row][row] (*divisor* variable) is zero, then it searches other rows below it for non-zero coefficient of A[other_row][row]. If its a hit then it **swaps** that row with the intial row. Note that we have to make changes in both matrices A and B.<br>\n",
    "\n",
    "If while searching it finds no non-zero coefficient of A[other_row][row] then it means the given Equations do **NOT** have Unique Solution.<br>\n",
    "The *flag* variable which initially stored \"Uniqe Solution\" is changed to either \"No Solution\" or \"Infinite Solutions\" depending on the equations.<br>\n",
    "This is done using the function `No_Unique_Solution()` which has been descibed afterwards. \n",
    "\n",
    "Note: <br>While comparing the float values we **never check equality** with 0. <br>Rather we check if the value is sufficiently close enough to 0. <br>\n",
    "This is done because of the *Floating Point Approximation* that the Python's Compiler does in the backend.  <br><br>\n",
    "I choose the `Tolerance Level` as *2e-19*, reason begin that we have to later deal with values as small as *1e-12* in case of AC circuits.<br>\n",
    "So the *tolerance level* must be choosen as a number smaller than it.<br>\n",
    "In my opinion values of the order *1e-15* should also work fine. "
   ]
  },
  {
   "attachments": {},
   "cell_type": "markdown",
   "metadata": {},
   "source": [
    "## Backward Substitution"
   ]
  },
  {
   "cell_type": "code",
   "execution_count": 2,
   "metadata": {},
   "outputs": [],
   "source": [
    "def Backward_Substitution(A, B):\n",
    "    N=len(A[0])     # Number of Variables\n",
    "    M=len(A)        # Number of Equations\n",
    "    #Create the list x containing the values of the variables\n",
    "    x=['none' for i in range(N)]\n",
    "    for row in range(N-1,-1,-1):\n",
    "        Sum=B[row]\n",
    "        for cols in range(N-1,row,-1):\n",
    "            Sum-=x[cols]*A[row][cols]\n",
    "        x[row]=Sum\n",
    "    return x"
   ]
  },
  {
   "attachments": {},
   "cell_type": "markdown",
   "metadata": {},
   "source": [
    "The function `Backward_Substitution()` takes arguments as A and B where A is the RREF (*Row Reduced Echelon Form*).<br>\n",
    "This funtion is beging called only after ensuring that the given set of Linear Equations have a `Unique Solution`.<br>\n",
    "It starts from the Nth row and find the values of the corresponding variables, till the first row.\n",
    "The answers are stored in a list *x* which is returned in the end."
   ]
  },
  {
   "attachments": {},
   "cell_type": "markdown",
   "metadata": {},
   "source": [
    "## Handle cases having NO Solution"
   ]
  },
  {
   "cell_type": "code",
   "execution_count": 3,
   "metadata": {},
   "outputs": [],
   "source": [
    "def No_Unique_Solution(A,B):\n",
    "    N=len(A[0])     # Number of Variables\n",
    "    M=len(A)        # Number of Equations\n",
    "    counter=0\n",
    "    for row in range(M-1,-1,-1):\n",
    "        check=False\n",
    "        for col in range(N):\n",
    "            if(abs(A[row][col])>2e-19):\n",
    "                check=True\n",
    "        if(check==False):\n",
    "            counter+=1\n",
    "            if(abs(B[row])>2e-19):\n",
    "                return \"No Solution\"\n",
    "    if(counter<M-N):\n",
    "        return \"No Solution\"\n",
    "    elif(counter>M-N):\n",
    "        return \"Infinite Solution\"\n",
    "    else:\n",
    "        return \"Unique Solution\"\n",
    "    "
   ]
  },
  {
   "attachments": {},
   "cell_type": "markdown",
   "metadata": {},
   "source": [
    "The function `No_Unique_Solution()` is called in the end of Forward Elimination or when during Forward Elimination it doesn't find any row having non-zero value of the Normalizing Factor.<br>\n",
    "`Tolerance Level` is taken as 2e-19.<br>\n",
    "It returns the flags *\"Unique Solution\"*, *\"No Solution\"*, *\"Infinite Solution\"* depeding on the cases."
   ]
  },
  {
   "attachments": {},
   "cell_type": "markdown",
   "metadata": {},
   "source": [
    "## Implementation of Gauss Elimination"
   ]
  },
  {
   "cell_type": "code",
   "execution_count": 4,
   "metadata": {},
   "outputs": [],
   "source": [
    "import numpy as np\n",
    "def Gauss_Elimination(A,B):\n",
    "    if(not isinstance(A,list)):\n",
    "        A=A.astype(np.float32)\n",
    "        B=B.astype(np.float32)\n",
    "    A1,B1,flag=Forward_Elimination(A,B)\n",
    "    if(flag==\"Unique Solution\"):\n",
    "        x=Backward_Substitution(A1,B1)\n",
    "        return x\n",
    "    else:\n",
    "        return flag"
   ]
  },
  {
   "attachments": {},
   "cell_type": "markdown",
   "metadata": {},
   "source": [
    "The function `Gauss_Elimination` firstly calls `Forward_Elimination()` and then `Backward_Substitution()` .<br>\n",
    "Note that if the input has numpy arrays, I have converted the datatype to numpy float.<br>\n",
    "It is done to ensure float division during Normalization Step.<br>\n",
    "If the datatype is int for the numpy arrays it will work with only integer values, because the <u>backend</u> of *Numpy* is in **C language**. \n",
    "We need not worry for lists because Python does implicit type-casting if needed."
   ]
  },
  {
   "attachments": {},
   "cell_type": "markdown",
   "metadata": {},
   "source": [
    "## Limitations "
   ]
  },
  {
   "cell_type": "code",
   "execution_count": 5,
   "metadata": {},
   "outputs": [
    {
     "name": "stdout",
     "output_type": "stream",
     "text": [
      "[-4.20000000e+01 -4.88498131e-14  2.95000000e+01]\n",
      "[-1.3333333333333712, -20.3333333333333, 19.333333333333332]\n"
     ]
    }
   ],
   "source": [
    "#Case when code fails\n",
    "A=[\n",
    "    [7,9,10],\n",
    "    [4,5,6],\n",
    "    [11,14,16]\n",
    "]\n",
    "B=[1,9,10]\n",
    "# A is singular Matrix\n",
    "print(np.linalg.solve(A,B))\n",
    "print(Gauss_Elimination(A,B))\n",
    "\n",
    "A=[\n",
    "    [8,9,10],\n",
    "    [4,5,6],\n",
    "    [12,14,16]\n",
    "]\n",
    "B=[1,9,10]"
   ]
  },
  {
   "attachments": {},
   "cell_type": "markdown",
   "metadata": {},
   "source": [
    "- For some equations having Infinite Solutions, my code returns a Unique solution.\n",
    "Although the numpy.linalg.solve() also works here, **but it shouldn't.**<br>\n",
    "The case mentioned above has determinant 0, so it should give Error.<br>\n",
    "This is also a limitation for the np.linalg.solve().<br>\n",
    "- Both codes give a correct solution from the set of infinite solutions, i.e. it is not a unique solution.<br> \n",
    "- My impelentation is slower than *np.linalg.solve()* because the backend in numpy is C.<br>C is much faster than Python. Also NumPy is fast because it can do all its calculations without calling back into Python. NumPy package integrates C, C++, and Fortran codes in Python"
   ]
  },
  {
   "attachments": {},
   "cell_type": "markdown",
   "metadata": {},
   "source": [
    "## Advantage over np.linalg.solve()\n"
   ]
  },
  {
   "cell_type": "code",
   "execution_count": 6,
   "metadata": {},
   "outputs": [
    {
     "name": "stdout",
     "output_type": "stream",
     "text": [
      "[-10.75   0.5    8.25]\n",
      "Infinite Solution\n"
     ]
    }
   ],
   "source": [
    "A=[\n",
    "    [8,9,10],\n",
    "    [4,5,6],\n",
    "    [12,14,16]\n",
    "]\n",
    "B=[1,9,10]\n",
    "\n",
    "print(np.linalg.solve(A,B))\n",
    "print(Gauss_Elimination(A,B))"
   ]
  },
  {
   "attachments": {},
   "cell_type": "markdown",
   "metadata": {},
   "source": [
    "My code gives correct answer that this has infinite solution, but np.linalg.solve() just gives a solution that is correct. This solution is **not unique**."
   ]
  },
  {
   "attachments": {},
   "cell_type": "markdown",
   "metadata": {},
   "source": [
    "## 10 X 10 Matrix Solving\n",
    "\n"
   ]
  },
  {
   "cell_type": "code",
   "execution_count": 10,
   "metadata": {},
   "outputs": [
    {
     "name": "stdout",
     "output_type": "stream",
     "text": [
      "From linalg.solve() :\n",
      "[ 0.03061941  2.26369235  0.51224422 -0.77444314  3.39525104  1.30925905\n",
      "  1.80300032 -0.96814396 -1.89594135 -3.71992834]\n",
      "8.22 µs ± 997 ns per loop (mean ± std. dev. of 7 runs, 100,000 loops each)\n",
      "From my Method :\n",
      "[0.030611038, 2.2636974, 0.51224756, -0.7744447, 3.3952637, 1.3092566, 1.8030082, -0.9681463, -1.8959444, -3.7199311]\n",
      "489 µs ± 32.2 µs per loop (mean ± std. dev. of 7 runs, 1,000 loops each)\n"
     ]
    }
   ],
   "source": [
    "A=np.random.randint(low=-100000,high=100000,size=(10,10))\n",
    "B=np.random.randint(low=-100000,high=100000,size=(10))\n",
    "\n",
    "print(\"From linalg.solve() :\")\n",
    "print(np.linalg.solve(A,B))\n",
    "%timeit np.linalg.solve(A,B)\n",
    "\n",
    "print(\"From my Method :\")\n",
    "print(Gauss_Elimination(A,B))\n",
    "%timeit Gauss_Elimination(A,B)"
   ]
  },
  {
   "attachments": {},
   "cell_type": "markdown",
   "metadata": {},
   "source": [
    "It generates a random 10 X 10 Matrix and solves using Both Methods.<br>\n",
    "Both give the same answers, but the <u>np.linalg.solve() is about 70 times faster</u> than my implementation."
   ]
  },
  {
   "attachments": {},
   "cell_type": "markdown",
   "metadata": {},
   "source": [
    "# Spice\n",
    "> From the given netlist, solve the circuit and give the corresponding outputs."
   ]
  },
  {
   "attachments": {},
   "cell_type": "markdown",
   "metadata": {},
   "source": [
    "**Note** :\n",
    "- While implementation we need not care about wheter the MNA has solution or not, because those set of equations correspond to a Circuit. <br>Any Circuit would have only one Unique Solution.\n",
    "- The input frequency is assumed to be in Hz.\n",
    "- The input values arre assumed to be in SI Units : Volts,Ampere,Ohm,Henry,Farad. \n",
    "- The Phasor Angle is printed in Degrees. \n",
    "- The Phasor begin read from the file is assumed to be in Degrees.\n",
    "- Python Libraries like math and cmath are used here.\n",
    "- This Circuit Solver solves **only** for \n",
    "    - Single Frequency Circuits\n",
    "    - Resistors with DC (Inductor and Capacitor would required Transient Analysis)\n",
    "    - Resistors, Inductors, Capacitors with AC (Returns the value of Voltages and Currents in Steady State.)\n",
    "    \n"
   ]
  },
  {
   "cell_type": "code",
   "execution_count": 7,
   "metadata": {},
   "outputs": [],
   "source": [
    "def circuit_solver(filename):\n",
    "    with open(filename) as f:\n",
    "        lines=f.readlines()\n",
    "        ckt_data=[]\n",
    "        for line in lines:\n",
    "            ckt_data.append(line.split())\n",
    "    check=False\n",
    "    variables=[]\n",
    "    dc_flag=False\n",
    "    ac_flag=False\n",
    "    #Read the required part in the .netlist file.\n",
    "    #i.e. the part between .circuit and .end \n",
    "    for line in ckt_data:\n",
    "        if(len(line)==0):\n",
    "            continue\n",
    "        if(line[0]=='.end'):\n",
    "            check=False\n",
    "            break\n",
    "        if(check==True):\n",
    "            #Name node i as ni for simplicity.\n",
    "            if(line[1][0]!='n' and line[1]!='GND'):\n",
    "               line[1]='n'+line[1]\n",
    "            if(line[2][0]!='n' and line[2]!='GND'):\n",
    "                line[2]='n'+line[2]\n",
    "            #Add the circuit variables to the variables list.\n",
    "            variables.append(line[1])        \n",
    "            variables.append(line[2])    \n",
    "            #Check for Voltage Sources\n",
    "            if(line[0][0] in ['V','v']):\n",
    "                variables.append(\"I\"+line[0])  \n",
    "                if(line[3]==\"dc\"):\n",
    "                    dc_flag=True\n",
    "                if(line[3]==\"ac\"):\n",
    "                    ac_flag=True\n",
    "            #Check for Current Sources\n",
    "            elif(line[0][0] in ['I','i']):\n",
    "                if(line[3]==\"dc\"):\n",
    "                    dc_flag=True\n",
    "                if(line[3]==\"ac\"):\n",
    "                    ac_flag=True\n",
    "        if(line[0]=='.circuit'):\n",
    "            check=True\n",
    "    #To deal with the circuit variables, we need \n",
    "    variables=list(set(variables))\n",
    "    variables.sort()\n",
    "    pos={}\n",
    "    for i in range(len(variables)):\n",
    "        pos[variables[i]]=i\n",
    "    if(ac_flag==True and dc_flag==True):\n",
    "        print(\"Multiple Frequencies : Involves both AC and DC Sources\")\n",
    "        return\n",
    "    elif(dc_flag==True):\n",
    "        dc_solver(pos,ckt_data,variables)\n",
    "    else:\n",
    "        ac_solver(pos,ckt_data,variables)"
   ]
  },
  {
   "attachments": {},
   "cell_type": "markdown",
   "metadata": {},
   "source": [
    "The function `circuit_solver()` takes in the input by reading the .netlist file.<br>\n",
    "It then calls the function dc_solver() or ac_solver() depending on the circuit.<br>\n",
    "If we have both AC and DC sources, it means we have Multiple Frequencies which can not be delt here.<br>\n",
    "\n",
    "The input is taken in the list *ckt_data* and the corresponding variables are added in the dictionary *pos*.<br>\n",
    "*Pos* contains the <u>position</u> of the circuit variables for referrencing in the MNA Matrix. "
   ]
  },
  {
   "cell_type": "code",
   "execution_count": 8,
   "metadata": {},
   "outputs": [],
   "source": [
    "def dc_solver(pos,ckt_data,variables):\n",
    "    l=len(variables)\n",
    "    #Generate the A and B matrix for Modified Nodal Analysis.\n",
    "    A=[[0 for i in range(l)] for j in range(l)]\n",
    "    b=[0 for i in range(l)]\n",
    "    check=False\n",
    "    #Read the part between .circuit and .end\n",
    "    for line in ckt_data:\n",
    "        if(line[0]=='.end'):\n",
    "            check=False\n",
    "            break\n",
    "        if(check==True):\n",
    "            #Find Resistances\n",
    "            if(line[0][0] in ['R','r']):\n",
    "                impedance=float(line[3])\n",
    "                A[pos[line[1]]][pos[line[1]]]+=1/impedance\n",
    "                A[pos[line[1]]][pos[line[2]]]-=1/impedance\n",
    "                A[pos[line[2]]][pos[line[2]]]+=1/impedance\n",
    "                A[pos[line[2]]][pos[line[1]]]-=1/impedance\n",
    "            #Find Voltage Sources\n",
    "            elif(line[0][0] in ['V','v']):\n",
    "                A[pos[\"I\"+line[0]]][pos[line[1]]]=1\n",
    "                A[pos[\"I\"+line[0]]][pos[line[2]]]=-1\n",
    "                b[pos[\"I\"+line[0]]]=float(line[4])\n",
    "                A[pos[line[1]]][pos[\"I\"+line[0]]]=1\n",
    "                A[pos[line[2]]][pos[\"I\"+line[0]]]=-1\n",
    "            #Find Current Sources\n",
    "            elif(line[0][0] in ['I','i']):\n",
    "                current=float(line[4])\n",
    "                b[pos[line[1]]]-=current\n",
    "                b[pos[line[2]]]+=current\n",
    "            else:\n",
    "                #Error if we have Inductance or Capacitance with DC\n",
    "                #because transient analysis is not possible with Gauss Eliimination directly. \n",
    "                print(\".netlist input Error\")\n",
    "                return\n",
    "        if(line[0]=='.circuit'):\n",
    "            check=True\n",
    "\n",
    "    #Removing Redundant Ground Node to get the Official Form of MNA\n",
    "    A.pop(pos[\"GND\"])\n",
    "    b.pop(pos[\"GND\"])\n",
    "    for row in A:\n",
    "        row.pop(pos[\"GND\"])\n",
    "    variables.pop(pos[\"GND\"])\n",
    "    for key in pos:\n",
    "        if(pos[key]>pos[\"GND\"]):\n",
    "            pos[key]-=1\n",
    "    del pos[\"GND\"]\n",
    "    #It has been reduced to the MNA form\n",
    "    print(A)\n",
    "    print(b)\n",
    "    x=Gauss_Elimination(A,b)\n",
    "    print_MNA(x,variables)"
   ]
  },
  {
   "attachments": {},
   "cell_type": "markdown",
   "metadata": {},
   "source": [
    "`dc_solver()` first creates the matrices A and B.<br> \n",
    "Then it generates the MNA Matrices and solves it using Gauss Elimination. <br>\n",
    "<br>\n",
    "Note:<br>\n",
    "Voltage Sources have *positive termial* towards **node1**.<br>\n",
    "Current Sources have *positive terminal* towards **node2**.<br>"
   ]
  },
  {
   "cell_type": "code",
   "execution_count": 9,
   "metadata": {},
   "outputs": [],
   "source": [
    "import math\n",
    "def ac_solver(pos,ckt_data,variables):\n",
    "    freq_list=[]\n",
    "    for i in range(len(ckt_data)-1,0,-1):\n",
    "        if(len(ckt_data[i])==0):\n",
    "            continue\n",
    "        if(ckt_data[i][0]=='.ac'):\n",
    "            freq_list.append(float(ckt_data[i][2]))\n",
    "    freq_list=list(set(freq_list))\n",
    "    frequency=freq_list[0]\n",
    "\n",
    "    #check for Multiple Frequencies.\n",
    "    if(len(freq_list)!=1):\n",
    "        print(\"Multiple frequencies\")\n",
    "        return\n",
    "\n",
    "    # Solve the circuit for single frequency .\n",
    "    omega=2*math.pi*frequency\n",
    "    l=len(variables)\n",
    "    A=[[0+0j for i in range(l)] for j in range(l)]\n",
    "    b=[0+0j for i in range(l)]\n",
    "\n",
    "    check=False\n",
    "    sources=['V','v','I','i']\n",
    "    im_j=complex(0+1j)\n",
    "    for line in ckt_data:\n",
    "        if(len(line)==0):\n",
    "            continue\n",
    "        if(line[0]=='.end'):\n",
    "            check=False\n",
    "            break\n",
    "        if(check==True):\n",
    "            if(line[0][0] not in sources):\n",
    "                #Resistor\n",
    "                impedance=complex(float(line[3]))\n",
    "                #Capacitor\n",
    "                if(line[0][0] in ['C','c']):\n",
    "                    impedance=1/(im_j*impedance*omega)\n",
    "                #Inductor\n",
    "                if(line[0][0] in ['L','l']):\n",
    "                    impedance=im_j*impedance*omega\n",
    "                A[pos[line[1]]][pos[line[1]]]+=1/impedance\n",
    "                A[pos[line[1]]][pos[line[2]]]-=1/impedance\n",
    "                A[pos[line[2]]][pos[line[2]]]+=1/impedance\n",
    "                A[pos[line[2]]][pos[line[1]]]-=1/impedance\n",
    "            #Voltage Source\n",
    "            elif(line[0][0] in ['V','v']):\n",
    "                A[pos[\"I\"+line[0]]][pos[line[1]]]=1\n",
    "                A[pos[\"I\"+line[0]]][pos[line[2]]]=-1\n",
    "                angle=float(line[5])*math.pi/180\n",
    "                b[pos[\"I\"+line[0]]]=math.cos(angle)*float(line[4])+math.sin(angle)*float(line[4])*im_j\n",
    "                A[pos[line[1]]][pos[\"I\"+line[0]]]=1\n",
    "                A[pos[line[2]]][pos[\"I\"+line[0]]]=-1\n",
    "            #Current Source\n",
    "            elif(line[0][0] in ['I','i']):\n",
    "                angle=float(line[5])*math.pi/180\n",
    "                current=math.cos(angle)*float(line[4])+math.sin(angle)*float(line[4])*im_j\n",
    "                b[pos[line[1]]]-=current\n",
    "                b[pos[line[2]]]+=current\n",
    "            #Some Error in the .netlist fromat.\n",
    "            else:\n",
    "                print(\".netlist input Error\")\n",
    "                return\n",
    "        if(line[0]=='.circuit'):\n",
    "            check=True\n",
    "    #Removing Ground Node to get the Official Form of MNA\n",
    "    A.pop(pos[\"GND\"])\n",
    "    b.pop(pos[\"GND\"])\n",
    "    for row in A:\n",
    "        row.pop(pos[\"GND\"])\n",
    "    variables.pop(pos[\"GND\"])\n",
    "    for key in pos:\n",
    "        if(pos[key]>pos[\"GND\"]):\n",
    "            pos[key]-=1\n",
    "    del pos[\"GND\"]      \n",
    "    #It has been reduced to the MNA form\n",
    "    print(pos)\n",
    "    print(A)\n",
    "    print(b)\n",
    "    x=Gauss_Elimination(A,b)\n",
    "    print_MNA(x,variables)"
   ]
  },
  {
   "attachments": {},
   "cell_type": "markdown",
   "metadata": {},
   "source": [
    "`ac_solver()` first creates the matrices A and B and also checks if it has Multiple Frequencies.<br>\n",
    "Then it generates the MNA Matrices and solves it using Gauss Elimination. <br>\n",
    "<br>\n",
    "Note:<br>\n",
    "Voltage Sources have *positive termial* towards **node1**.<br>\n",
    "Current Sources have *positive terminal* towards **node2**.<br>\n",
    "The impedance of Capacitor is 1/jwC .<br>\n",
    "The impedance of Inductor is jwL .<br>\n",
    "\n",
    "The equations are solved in the complex numbers domain."
   ]
  },
  {
   "cell_type": "code",
   "execution_count": 10,
   "metadata": {},
   "outputs": [],
   "source": [
    "import cmath\n",
    "def print_MNA(x,variables):\n",
    "    #Convert Radians to Degree\n",
    "    def radians_to_degree(angle):\n",
    "        return angle*180/math.pi\n",
    "    #Use Scientific Notation for printing the values of thec Circuit Variables.\n",
    "    def conv(value):\n",
    "        if(isinstance(value,complex)):\n",
    "            magnitude=abs(value)\n",
    "            angle=radians_to_degree(cmath.phase(value))\n",
    "            return \"{:e}\".format(magnitude)+' <'+str(angle)+' degree>'\n",
    "        else:\n",
    "            return \"{:e}\".format(value)\n",
    "    #Finally Print the Circuit Variables\n",
    "    for i in range(len(variables)):\n",
    "        if(variables[i][0]=='I'):\n",
    "            print(variables[i],\" = \",conv(x[i]),\" A\",sep=\"\")\n",
    "        else:\n",
    "            print(variables[i],\" = \",conv(x[i]),\" V\",sep=\"\")"
   ]
  },
  {
   "attachments": {},
   "cell_type": "markdown",
   "metadata": {},
   "source": [
    "The function `print_MNA` changes the Rectangular from of Complex Numbers to the Polar Form for AC Circuits.<br>\n",
    "For DC Circuits it just prints the circuit variables as it is.<br>\n",
    "All the values are printed in the Scientific Notation."
   ]
  },
  {
   "cell_type": "code",
   "execution_count": 11,
   "metadata": {},
   "outputs": [
    {
     "name": "stdout",
     "output_type": "stream",
     "text": [
      "Circuit Variables for ckt1.netlist :\n",
      "[[0, 0, 0, 0, -1], [0, 0.00125, -0.00025, 0, 0], [0, -0.00025, 0.00042500000000000003, -0.000125, 0], [0, 0, -0.000125, 0.000125, 0], [-1, 0, 0, 0, 0.0001]]\n",
      "[5.0, 0, 0, 0, 0]\n",
      "IV1 = -5.000000e-04 A\n",
      "n1 = 0.000000e+00 V\n",
      "n2 = 0.000000e+00 V\n",
      "n3 = 0.000000e+00 V\n",
      "n4 = -5.000000e+00 V\n",
      "\n",
      "Circuit Variables for ckt2.netlist :\n",
      "Multiple Frequencies : Involves both AC and DC Sources\n",
      "\n",
      "Circuit Variables for ckt3.netlist :\n",
      "[[0, -1, 0, 0, 0, 0], [-1, 0.001, -0.001, 0, 0, 0], [0, -0.001, 0.0025, -0.001, 0, 0], [0, 0, -0.001, 0.0025, -0.001, 0], [0, 0, 0, -0.001, 0.0025, -0.001], [0, 0, 0, 0, -0.001, 0.0015]]\n",
      "[10.0, 0, 0, 0, 0, 0]\n",
      "IV1 = -4.970760e-03 A\n",
      "n1 = -1.000000e+01 V\n",
      "n2 = -5.029240e+00 V\n",
      "n3 = -2.573099e+00 V\n",
      "n4 = -1.403509e+00 V\n",
      "n5 = -9.356725e-01 V\n",
      "\n",
      "Circuit Variables for ckt4.netlist :\n",
      "[[0, -1, 0, 0], [-1, 0.5, -0.5, 0], [0, -0.5, 1.0333333333333332, -0.2], [0, 0, -0.2, 0.30000000000000004]]\n",
      "[10.0, 0, 0, 0]\n",
      "IV1 = -2.222222e+00 A\n",
      "n1 = -1.000000e+01 V\n",
      "n2 = -5.555556e+00 V\n",
      "n3 = -3.703704e+00 V\n",
      "\n",
      "Circuit Variables for ckt5.netlist :\n",
      "[[0, -1], [-1, 0.1]]\n",
      "[10.0, 0]\n",
      "IV1 = -1.000000e+00 A\n",
      "n1 = -1.000000e+01 V\n",
      "\n",
      "Circuit Variables for ckt6.netlist :\n",
      "{'IV1': 0, 'n1': 1, 'n2': 2, 'n3': 3}\n",
      "[[0j, 0j, 0j, -1], [0j, 6124.03036408769j, -6283.185307179586j, 0j], [0j, -6283.185307179586j, (0.001+6283.185307179586j), (-0.001+0j)], [-1, 0j, (-0.001+0j), (0.001+0j)]]\n",
      "[(5+0j), 0j, 0j, 0j]\n",
      "IV1 = 5.000000e-03 <179.99964911890655 degree> A\n",
      "n1 = 3.141593e-05 <-90.00035088109347 degree> V\n",
      "n2 = 3.062015e-05 <-90.00035088109347 degree> V\n",
      "n3 = 5.000000e+00 <-180.0 degree> V\n",
      "\n",
      "Circuit Variables for ckt7.netlist :\n",
      "{'n1': 0}\n",
      "[[(0.001+6124.03036408769j)]]\n",
      "[(5+0j)]\n",
      "n1 = 8.164558e-04 <-89.9999906441059 degree> V\n",
      "\n"
     ]
    }
   ],
   "source": [
    "\n",
    "circuits=[\n",
    "    \"ckt1.netlist\",\n",
    "    \"ckt2.netlist\",\n",
    "    \"ckt3.netlist\",\n",
    "    \"ckt4.netlist\",\n",
    "    \"ckt5.netlist\",\n",
    "    \"ckt6.netlist\",\n",
    "    \"ckt7.netlist\"]\n",
    "\n",
    "for filename in circuits:\n",
    "    print(\"Circuit Variables for\",filename, \":\")\n",
    "    circuit_solver(filename)\n",
    "    print()\n"
   ]
  },
  {
   "attachments": {},
   "cell_type": "markdown",
   "metadata": {},
   "source": [
    "# Conclusion\n",
    "I have verified these answers by simulating the circuits given here in **LTSpice**<br>\n",
    "All Answers are *correctly matching* with the values obtained from LTSpice when the circuit reaches Steady State."
   ]
  }
 ],
 "metadata": {
  "kernelspec": {
   "display_name": "Python 3",
   "language": "python",
   "name": "python3"
  },
  "language_info": {
   "codemirror_mode": {
    "name": "ipython",
    "version": 3
   },
   "file_extension": ".py",
   "mimetype": "text/x-python",
   "name": "python",
   "nbconvert_exporter": "python",
   "pygments_lexer": "ipython3",
   "version": "3.10.5"
  },
  "orig_nbformat": 4,
  "vscode": {
   "interpreter": {
    "hash": "26de051ba29f2982a8de78e945f0abaf191376122a1563185a90213a26c5da77"
   }
  }
 },
 "nbformat": 4,
 "nbformat_minor": 2
}
