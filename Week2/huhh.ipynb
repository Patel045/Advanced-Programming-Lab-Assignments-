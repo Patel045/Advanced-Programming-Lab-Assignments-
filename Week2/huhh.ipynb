{
 "cells": [
  {
   "cell_type": "code",
   "execution_count": 2,
   "metadata": {},
   "outputs": [],
   "source": [
    "def No_Unique_Solution(A,B):\n",
    "    N=len(A[0])     # Number of Variables\n",
    "    M=len(A)        # Number of Equations\n",
    "    counter=0\n",
    "    for row in range(M-1,-1,-1):\n",
    "        check=False\n",
    "        for col in range(N):\n",
    "            if(abs(A[row][col])>2e-19):\n",
    "                check=True\n",
    "        if(check==False):\n",
    "            counter+=1\n",
    "            if(abs(B[row])>2e-19):\n",
    "                return \"No Solution\"\n",
    "    if(counter<M-N):\n",
    "        return \"No Solution\"\n",
    "    elif(counter>M-N):\n",
    "        return \"Infinite Solution\"\n",
    "    else:\n",
    "        return \"Unique Solution\"\n",
    "    "
   ]
  },
  {
   "cell_type": "code",
   "execution_count": 3,
   "metadata": {},
   "outputs": [],
   "source": [
    "def Forward_Elimination(A,B):\n",
    "    N=len(A[0])     # Number of Variables\n",
    "    M=len(A)        # Number of Equations\n",
    "    flag=\"Unique Solution\"\n",
    "    for row in range(0,N):\n",
    "        #Check if Normalization Possible\n",
    "        if(abs(A[row][row])<=2e-19):\n",
    "            #Find where its non-0\n",
    "            swapped=False\n",
    "            for dummy_row in range(row+1,M):\n",
    "                if(abs(A[dummy_row][row])>2e-19):\n",
    "                    #Swap\n",
    "                    A[dummy_row],A[row]=A[row],A[dummy_row]\n",
    "                    B[dummy_row],B[row]=B[row],B[dummy_row]\n",
    "                    swapped=True\n",
    "                    break\n",
    "            if(swapped==False):\n",
    "                #No Unique Solution\n",
    "                flag=No_Unique_Solution(A,B)\n",
    "                return A,B,flag\n",
    "        divisor=A[row][row]\n",
    "        #Normalization\n",
    "        for col in range(row,N):\n",
    "            A[row][col]/=divisor\n",
    "        B[row]/=divisor\n",
    "        #Elimination\n",
    "        for next_rows in range(row+1,M):\n",
    "            multiplier=A[next_rows][row]\n",
    "            for col in range(row,N):\n",
    "                A[next_rows][col]-=multiplier*A[row][col]\n",
    "            B[next_rows]-=multiplier*B[row]\n",
    "    flag=No_Unique_Solution(A,B)\n",
    "    return A,B,flag"
   ]
  },
  {
   "cell_type": "code",
   "execution_count": 4,
   "metadata": {},
   "outputs": [],
   "source": [
    "def Backward_Substitution(A, B):\n",
    "    N=len(A[0])     # Number of Variables\n",
    "    M=len(A)        # Number of Equations\n",
    "    #Create the list x containing the values of the variables\n",
    "    x=['none' for i in range(N)]\n",
    "    for row in range(N-1,-1,-1):\n",
    "        Sum=B[row]\n",
    "        for cols in range(N-1,row,-1):\n",
    "            Sum-=x[cols]*A[row][cols]\n",
    "        x[row]=Sum\n",
    "    return x"
   ]
  },
  {
   "cell_type": "code",
   "execution_count": 5,
   "metadata": {},
   "outputs": [
    {
     "name": "stdout",
     "output_type": "stream",
     "text": [
      "Infinite Solution\n"
     ]
    }
   ],
   "source": [
    "import numpy as np\n",
    "A=[\n",
    "    [1,2,3],\n",
    "    [8,9,10],\n",
    "    [33,38,43]\n",
    "]\n",
    "B=[1,5,21]\n",
    "\n",
    "def Gauss_Elimination(A,B):\n",
    "    if(not isinstance(A,list)):\n",
    "        A=A.astype(np.float32)\n",
    "        B=B.astype(np.float32)\n",
    "    A1,B1,flag=Forward_Elimination(A,B)\n",
    "    if(flag==\"Unique Solution\"):\n",
    "        x=Backward_Substitution(A1,B1)\n",
    "        return x\n",
    "    else:\n",
    "        print(flag)\n",
    "Gauss_Elimination(A,B)\n"
   ]
  },
  {
   "cell_type": "code",
   "execution_count": 21,
   "metadata": {},
   "outputs": [
    {
     "name": "stdout",
     "output_type": "stream",
     "text": [
      "n3 = 0.0 V\n",
      "n4 = 5.0 V\n",
      "IV1 = -0.0005 A\n",
      "n1 = 0.0 V\n",
      "n2 = 0.0 V\n",
      "\n",
      "n3 = 2.573099415204678 V\n",
      "n4 = 1.4035087719298247 V\n",
      "n5 = 0.9356725146198832 V\n",
      "IV1 = -0.004970760233918129 A\n",
      "n1 = 10.0 V\n",
      "n2 = 5.029239766081871 V\n"
     ]
    }
   ],
   "source": [
    "def circuit_solver(filename):\n",
    "    with open(filename) as f:\n",
    "        lines=f.readlines()\n",
    "        ckt_data=[]\n",
    "        for line in lines:\n",
    "            ckt_data.append(line.split())\n",
    "    check=False\n",
    "    variables=[]\n",
    "    dc_flag=False\n",
    "    ac_flag=False\n",
    "    for line in ckt_data:\n",
    "        if(len(line)==0):\n",
    "            continue\n",
    "        if(line[0]=='.end'):\n",
    "            check=False\n",
    "            break\n",
    "        if(check==True):\n",
    "            if(line[1][0]!='n' and line[1]!='GND'):\n",
    "               line[1]='n'+line[1]\n",
    "            if(line[2][0]!='n' and line[2]!='GND'):\n",
    "                line[2]='n'+line[2]\n",
    "            variables.append(line[1])        \n",
    "            variables.append(line[2])    \n",
    "            if(line[0][0] in ['V','v']):\n",
    "                variables.append(\"I\"+line[0])  \n",
    "                if(line[3]==\"dc\"):\n",
    "                    dc_flag=True\n",
    "                if(line[3]==\"ac\"):\n",
    "                    ac_flag=True\n",
    "            elif(line[0][0] in ['I','i']):\n",
    "                variables.append(line[0])\n",
    "                if(line[3]==\"dc\"):\n",
    "                    dc_flag=True\n",
    "                if(line[3]==\"ac\"):\n",
    "                    ac_flag=True\n",
    "        if(line[0]=='.circuit'):\n",
    "            check=True\n",
    "    variables=list(set(variables))\n",
    "    pos={}\n",
    "    for i in range(len(variables)):\n",
    "        pos[variables[i]]=i\n",
    "    if(ac_flag==True and dc_flag==True):\n",
    "        print(\"Multiple Frequencies : Involves both AC and DC Sources\")\n",
    "        return\n",
    "    elif(dc_flag==True):\n",
    "        dc_solver(pos,ckt_data,variables)\n",
    "    else:\n",
    "        ac_solver(pos,ckt_data,variables)\n",
    "\n",
    "def print_MNA(x,variables):\n",
    "    for i in range(len(variables)):\n",
    "        if(variables[i][0]=='I'):\n",
    "            print(variables[i],\" = \",x[i],\" A\",sep=\"\")\n",
    "        else:\n",
    "            print(variables[i],\" = \",x[i],\" V\",sep=\"\")\n",
    "\n",
    "def dc_solver(pos,ckt_data,variables):\n",
    "    l=len(variables)\n",
    "    A=[[0 for i in range(l)] for j in range(l)]\n",
    "    b=[0 for i in range(l)]\n",
    "    check=False\n",
    "    sources=['V','v','I','i']\n",
    "    for line in ckt_data:\n",
    "        if(line[0]=='.end'):\n",
    "            check=False\n",
    "            break\n",
    "        if(check==True):\n",
    "            if(line[0][0] not in sources):\n",
    "                impedance=float(line[3])\n",
    "                A[pos[line[1]]][pos[line[1]]]+=1/impedance\n",
    "                A[pos[line[1]]][pos[line[2]]]-=1/impedance\n",
    "                A[pos[line[2]]][pos[line[2]]]+=1/impedance\n",
    "                A[pos[line[2]]][pos[line[1]]]-=1/impedance\n",
    "            elif(line[0][0] in sources):\n",
    "                A[pos[\"I\"+line[0]]][pos[line[2]]]=1\n",
    "                A[pos[\"I\"+line[0]]][pos[line[1]]]=-1\n",
    "                b[pos[\"I\"+line[0]]]=float(line[4])\n",
    "                A[pos[line[2]]][pos[\"I\"+line[0]]]=1\n",
    "                A[pos[line[1]]][pos[\"I\"+line[0]]]=-1\n",
    "            else:\n",
    "                print(\".netlist input Error\")\n",
    "                return\n",
    "        if(line[0]=='.circuit'):\n",
    "            check=True\n",
    "    #Removing Ground Node to get the Official Form of MNA\n",
    "    A.pop(pos[\"GND\"])\n",
    "    b.pop(pos[\"GND\"])\n",
    "    for row in A:\n",
    "        row.pop(pos[\"GND\"])\n",
    "    variables.pop(pos[\"GND\"])\n",
    "    for key in pos:\n",
    "        if(pos[key]>pos[\"GND\"]):\n",
    "            pos[key]-=1\n",
    "    del pos[\"GND\"]\n",
    "    #It has been reduced to the MNA form\n",
    "    # print(A)\n",
    "    # print(b)\n",
    "    x=Gauss_Elimination(A,b)\n",
    "    print_MNA(x,variables)\n",
    "\n",
    "circuit_solver(\"ckt1.netlist\")\n",
    "print()\n",
    "circuit_solver(\"ckt3.netlist\")"
   ]
  },
  {
   "cell_type": "code",
   "execution_count": 22,
   "metadata": {},
   "outputs": [
    {
     "name": "stdout",
     "output_type": "stream",
     "text": [
      "got omega 6283.185307179586\n",
      "impedance of  C1 -0.00015915494309189535j\n",
      "impedance of  R1 1000.0\n",
      "impedance of  L1 0.006283185307179586j\n",
      "[[1, 0], [1, (0.001+6124.03036408769j)]]\n",
      "[(5+0j), 0]\n",
      "['I1', 'n1']\n",
      "{'I1': 0, 'n1': 1}\n",
      "I1 = (5+0j) A\n",
      "n1 = (-1.3332000879741771e-10+0.000816455782015824j) V\n"
     ]
    }
   ],
   "source": [
    "import math\n",
    "def ac_solver(pos,ckt_data,variables):\n",
    "    #read frequency\n",
    "    counter=0\n",
    "    for i in range(len(ckt_data)-1,0,-1):\n",
    "        if(len(ckt_data[i])==0):\n",
    "            continue\n",
    "        if(ckt_data[i][0]=='.ac'):\n",
    "            counter+=1\n",
    "            frequency=float(ckt_data[i][2])\n",
    "    if(counter!=1):\n",
    "        print(\"Multiple frequencies\")\n",
    "        return\n",
    "    omega=2*math.pi*frequency\n",
    "    print(\"got omega\", omega)\n",
    "    l=len(variables)\n",
    "    A=[[0 for i in range(l)] for j in range(l)]\n",
    "    b=[0 for i in range(l)]\n",
    "    check=False\n",
    "    sources=['V','v','I','i']\n",
    "    im_j=complex(0+1j)\n",
    "    for line in ckt_data:\n",
    "        if(len(line)==0):\n",
    "            continue\n",
    "        if(line[0]=='.end'):\n",
    "            check=False\n",
    "            break\n",
    "        if(check==True):\n",
    "            if(line[0][0] not in sources):\n",
    "                impedance=float(line[3])\n",
    "                if(line[0][0] in ['C','c']):\n",
    "                    impedance=1/(im_j*impedance*omega)\n",
    "                if(line[0][0] in ['L','l']):\n",
    "                    impedance=im_j*impedance*omega\n",
    "                print(\"impedance of \",line[0],impedance)\n",
    "                A[pos[line[1]]][pos[line[1]]]+=1/impedance\n",
    "                A[pos[line[1]]][pos[line[2]]]-=1/impedance\n",
    "                A[pos[line[2]]][pos[line[2]]]+=1/impedance\n",
    "                A[pos[line[2]]][pos[line[1]]]-=1/impedance\n",
    "            elif(line[0][0] in ['V','v']):\n",
    "                A[pos[\"I\"+line[0]]][pos[line[2]]]=1\n",
    "                A[pos[\"I\"+line[0]]][pos[line[1]]]=-1\n",
    "                b[pos[\"I\"+line[0]]]=float(line[4])+float(line[5])*im_j\n",
    "                A[pos[line[2]]][pos[\"I\"+line[0]]]=1\n",
    "                A[pos[line[1]]][pos[\"I\"+line[0]]]=-1\n",
    "            elif(line[0][0] in ['I','i']):\n",
    "                A[pos[line[0]]][pos[line[0]]]=1\n",
    "                b[pos[line[0]]]=float(line[4])+float(line[5])*im_j\n",
    "                A[pos[line[1]]][pos[line[0]]]=-1\n",
    "                A[pos[line[2]]][pos[line[0]]]=1\n",
    "            else:\n",
    "                print(\".netlist input Error\")\n",
    "                return\n",
    "        if(line[0]=='.circuit'):\n",
    "            check=True\n",
    "    A.pop(pos[\"GND\"])\n",
    "    b.pop(pos[\"GND\"])\n",
    "    for row in A:\n",
    "        row.pop(pos[\"GND\"])\n",
    "    variables.pop(pos[\"GND\"])\n",
    "    for key in pos:\n",
    "        if(pos[key]>pos[\"GND\"]):\n",
    "            pos[key]-=1\n",
    "    del pos[\"GND\"]    \n",
    "    print(A)\n",
    "    print(b)\n",
    "    print(variables)\n",
    "    print(pos)\n",
    "    x=Gauss_Elimination(A,b)\n",
    "    print_MNA(x,variables)\n",
    "circuit_solver(\"ckt7.netlist\")"
   ]
  },
  {
   "cell_type": "code",
   "execution_count": 1,
   "metadata": {},
   "outputs": [
    {
     "data": {
      "text/plain": [
       "(1.4142135623730951, 0.7853981633974483)"
      ]
     },
     "execution_count": 1,
     "metadata": {},
     "output_type": "execute_result"
    }
   ],
   "source": [
    "import cmath\n",
    "def phasor(value):\n",
    "    return abs(value),cmath.phase(value)\n",
    "\n",
    "phasor(1+1j) "
   ]
  },
  {
   "cell_type": "code",
   "execution_count": 29,
   "metadata": {},
   "outputs": [
    {
     "name": "stdout",
     "output_type": "stream",
     "text": [
      "got omega 6283.185307179586\n",
      "impedance of  C1 -0.00015915494309189535j\n",
      "impedance of  R1 1000.0\n",
      "impedance of  L1 0.006283185307179586j\n",
      "[[1, 0], [1, (0.001+6124.03036408769j)]]\n",
      "[(5+0j), 0]\n",
      "['I1', 'n1']\n",
      "{'I1': 0, 'n1': 1}\n",
      "I1 = (5+0j) A\n",
      "n1 = (-1.3332000879741771e-10+0.000816455782015824j) V\n"
     ]
    }
   ],
   "source": [
    "# circuit_solver(\"ckt1.netlist\")\n",
    "# circuit_solver(\"ckt2.netlist\")\n",
    "# circuit_solver(\"ckt3.netlist\")\n",
    "# circuit_solver(\"ckt4.netlist\")\n",
    "# circuit_solver(\"ckt5.netlist\")\n",
    "# circuit_solver(\"ckt6.netlist\")\n",
    "# circuit_solver(\"ckt7.netlist\")"
   ]
  },
  {
   "cell_type": "code",
   "execution_count": 4,
   "metadata": {},
   "outputs": [
    {
     "name": "stdout",
     "output_type": "stream",
     "text": [
      "(3+0j)\n",
      "<class 'complex'>\n"
     ]
    }
   ],
   "source": [
    "a=3+0j\n",
    "print(a)\n",
    "print(type(a))"
   ]
  },
  {
   "cell_type": "code",
   "execution_count": 2,
   "metadata": {},
   "outputs": [
    {
     "data": {
      "text/plain": [
       "5.0"
      ]
     },
     "execution_count": 2,
     "metadata": {},
     "output_type": "execute_result"
    }
   ],
   "source": [
    "abs(a)"
   ]
  },
  {
   "cell_type": "code",
   "execution_count": 5,
   "metadata": {},
   "outputs": [
    {
     "data": {
      "text/plain": [
       "0.0"
      ]
     },
     "execution_count": 5,
     "metadata": {},
     "output_type": "execute_result"
    }
   ],
   "source": [
    "import cmath\n",
    "cmath.phase(a)"
   ]
  },
  {
   "cell_type": "code",
   "execution_count": null,
   "metadata": {},
   "outputs": [],
   "source": []
  }
 ],
 "metadata": {
  "kernelspec": {
   "display_name": "Python 3",
   "language": "python",
   "name": "python3"
  },
  "language_info": {
   "codemirror_mode": {
    "name": "ipython",
    "version": 3
   },
   "file_extension": ".py",
   "mimetype": "text/x-python",
   "name": "python",
   "nbconvert_exporter": "python",
   "pygments_lexer": "ipython3",
   "version": "3.10.5"
  },
  "orig_nbformat": 4,
  "vscode": {
   "interpreter": {
    "hash": "26de051ba29f2982a8de78e945f0abaf191376122a1563185a90213a26c5da77"
   }
  }
 },
 "nbformat": 4,
 "nbformat_minor": 2
}
