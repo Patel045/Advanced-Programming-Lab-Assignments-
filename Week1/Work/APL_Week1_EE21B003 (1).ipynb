{
 "cells": [
  {
   "cell_type": "markdown",
   "id": "bc66b3b5-035d-4397-af1d-5c64e180632f",
   "metadata": {},
   "source": [
    "# Document metadata\n",
    "\n",
    "> *Problem statement: modify this document so that the author name reflects your name and roll number.  Explain the changes you needed to make here.  If you use other approaches such as LaTeX to generate the PDF, explain the differences between the notebook approach and what you have used.*\n",
    "\n"
   ]
  },
  {
   "cell_type": "markdown",
   "id": "1b6fe988",
   "metadata": {},
   "source": [
    "From the Edit Menu, I have changed the notebook metadata to my credentials. `AAYUSH PATEL` <ee21b003@smail.iitm.ac.in> "
   ]
  },
  {
   "cell_type": "markdown",
   "id": "47576f05-90e1-4c8b-b75b-13ebffe95171",
   "metadata": {},
   "source": [
    "# Basic Data Types"
   ]
  },
  {
   "cell_type": "markdown",
   "id": "90d271f4",
   "metadata": {},
   "source": [
    "## Numerical types"
   ]
  },
  {
   "cell_type": "markdown",
   "id": "6cfd80b6",
   "metadata": {},
   "source": [
    "> **Probelm** : Explain the codes given below"
   ]
  },
  {
   "cell_type": "code",
   "execution_count": 1,
   "id": "1e2d2e6e",
   "metadata": {},
   "outputs": [
    {
     "name": "stdout",
     "output_type": "stream",
     "text": [
      "2.4\n"
     ]
    }
   ],
   "source": [
    "print(12 / 5)"
   ]
  },
  {
   "cell_type": "markdown",
   "id": "9c485ae0",
   "metadata": {},
   "source": [
    "**Explanation** :<br>\n",
    "This statement performs a *division* of two *integers* and returns a *float* value <br><br><br>"
   ]
  },
  {
   "cell_type": "code",
   "execution_count": 2,
   "id": "1b587eb7",
   "metadata": {},
   "outputs": [
    {
     "name": "stdout",
     "output_type": "stream",
     "text": [
      "2\n"
     ]
    }
   ],
   "source": [
    "print(12 // 5)"
   ]
  },
  {
   "cell_type": "markdown",
   "id": "f34e3a50",
   "metadata": {},
   "source": [
    "**Explanation** :<br> This is a *floor division* which returns an *integer* value, i.e. the quotient of the division. <br> <br><br>"
   ]
  },
  {
   "cell_type": "code",
   "execution_count": 3,
   "id": "97a6c535",
   "metadata": {},
   "outputs": [
    {
     "name": "stdout",
     "output_type": "stream",
     "text": [
      "10 10 1.0\n"
     ]
    }
   ],
   "source": [
    "a=b=10\n",
    "print(a,b,a/b)"
   ]
  },
  {
   "cell_type": "markdown",
   "id": "846ceff0",
   "metadata": {},
   "source": [
    "**Explanation** : <br>This statement prints a, b and a/b where a/b will be a floating point datatype. Print statement has **sep=\" \"** by default, i.e. all those variables will be printed with a *blank space* between them.  <br><br>"
   ]
  },
  {
   "cell_type": "markdown",
   "id": "af329d1c",
   "metadata": {},
   "source": [
    "## Strings and related operations"
   ]
  },
  {
   "cell_type": "markdown",
   "id": "20baa08d",
   "metadata": {},
   "source": [
    ">**Problem** : Explain the code given below"
   ]
  },
  {
   "cell_type": "code",
   "execution_count": 4,
   "id": "ba913542",
   "metadata": {},
   "outputs": [
    {
     "name": "stdout",
     "output_type": "stream",
     "text": [
      "Hello \n"
     ]
    }
   ],
   "source": [
    "a = \"Hello \"\n",
    "print(a)"
   ]
  },
  {
   "cell_type": "markdown",
   "id": "c7b8882a",
   "metadata": {},
   "source": [
    "**Explanation** : <br>This changes the variable **a** from 10 (*integer*) to \"Hello\" (*string*) and prints it.<br>"
   ]
  },
  {
   "cell_type": "markdown",
   "id": "687d0844",
   "metadata": {},
   "source": [
    "> **Problem** : Output should contain \"Hello 10\" "
   ]
  },
  {
   "cell_type": "code",
   "execution_count": 5,
   "id": "ad0e046b",
   "metadata": {},
   "outputs": [
    {
     "name": "stdout",
     "output_type": "stream",
     "text": [
      "Error in the print statement.\n",
      "The correct way to print a+b is\n",
      "Hello  10\n"
     ]
    }
   ],
   "source": [
    "try:\n",
    "    print(a+b)  # Output should contain \"Hello 10\" \n",
    "except: \n",
    "    print(\"Error in the print statement.\")\n",
    "finally:\n",
    "    print(\"The correct way to print a+b is\")\n",
    "    print(a,b)"
   ]
  },
  {
   "cell_type": "markdown",
   "id": "c96b2107",
   "metadata": {},
   "source": [
    "**Explanation** : <br> The statement print(a+b) was **wrong** because we can not add an *integer* and a *string*. <br>To solve this we have two ways :\n",
    "- Convert the integer into a *string* datatype then concatenate both *strings*.\n",
    "- use print(a,b) .This will print the *integer* and the *string* with a blank space because the parameter sep of print statement has \" \" by default (i.e. sep=\" \")"
   ]
  },
  {
   "cell_type": "markdown",
   "id": "88a518a2",
   "metadata": {},
   "source": [
    "> **Problem** :<br> Print out a line of 40 '-' signs (to look like one long line)<br>\n",
    "Then print the number 42 so that it is right justified to the end of \n",
    "the above line.<br>\n",
    "Then print one more line of length 40, but with the pattern '\\*-\\*-\\*-' "
   ]
  },
  {
   "cell_type": "code",
   "execution_count": 6,
   "id": "e2793fa4",
   "metadata": {},
   "outputs": [
    {
     "name": "stdout",
     "output_type": "stream",
     "text": [
      "----------------------------------------\n",
      "                                        42\n",
      "*-*-*-*-*-*-*-*-*-*-*-*-*-*-*-*-*-*-*-*-\n"
     ]
    }
   ],
   "source": [
    "line1=\"-\"*40         #String Multiplication\n",
    "line2=\" \"*40 + \"42\"\n",
    "line3=\"*-\"*20\n",
    "print(line1,line2,line3,sep=\"\\n\")"
   ]
  },
  {
   "cell_type": "markdown",
   "id": "50683d22",
   "metadata": {},
   "source": [
    "**Explanation** : <br> This is the concept of *string multiplication* where a string is copied and concatenated the number of times we want. <br>\n",
    "This output can also have been obtained using loops annd printing the characters one by one but String Multiplication makes this process simpler."
   ]
  },
  {
   "cell_type": "markdown",
   "id": "f8065bc1",
   "metadata": {},
   "source": [
    "> **Problem** : Explain the given code"
   ]
  },
  {
   "cell_type": "code",
   "execution_count": 7,
   "id": "9b4e1f03",
   "metadata": {},
   "outputs": [
    {
     "name": "stdout",
     "output_type": "stream",
     "text": [
      "The variable 'a' has the value Hello  and 'b' has the value         10\n"
     ]
    }
   ],
   "source": [
    "print(f\"The variable 'a' has the value {a} and 'b' has the value {b:>10}\")"
   ]
  },
  {
   "cell_type": "markdown",
   "id": "e34109c6",
   "metadata": {},
   "source": [
    "**Explanation** :<br> This is an example of **F-strings** in python.<br>\n",
    "F-strings provide a concise and convenient way to embed python expressions inside string literals for formatting. F-strings make *string interpolation* simpler. <br>\n"
   ]
  },
  {
   "cell_type": "markdown",
   "id": "65bdc6af",
   "metadata": {},
   "source": [
    "> **Problem** : Create a list of dictionaries.\n",
    "\n",
    "In the dictionaries each entry in the list has two keys:\n",
    "- **id**: this will be the ID number of a course, for example 'EE2703'\n",
    "- **name**: this will be the name, for example 'Applied Programming Lab'\n",
    "Add 3 entries:<br>\n",
    "EE2703 -> Applied Programming Lab<br>\n",
    "EE2003 -> Computer Organization<br>\n",
    "EE5311 -> Digital IC Design<br><br>\n",
    "Then print out the entries in a neatly formatted table where the \n",
    "ID number is *left justified*\n",
    "to 10 spaces and the name is *right justified* to 40 spaces.  "
   ]
  },
  {
   "cell_type": "code",
   "execution_count": 8,
   "id": "9d746f81",
   "metadata": {},
   "outputs": [
    {
     "name": "stdout",
     "output_type": "stream",
     "text": [
      "EE2703                     Applied Programming Lab\n",
      "EE2003                       Computer Organization\n",
      "EE5131                           Digital IC Design\n"
     ]
    }
   ],
   "source": [
    "courses_list=[\n",
    "    {\n",
    "        \"id\"   : \"EE2703\",\n",
    "        \"name\" : \"Applied Programming Lab\"\n",
    "    },\n",
    "    {\n",
    "        \"id\"   : \"EE2003\",\n",
    "        \"name\" : \"Computer Organization\"\n",
    "    },\n",
    "    {\n",
    "        \"id\"   : \"EE5131\",\n",
    "        \"name\" : \"Digital IC Design\"\n",
    "    }\n",
    "]\n",
    "\n",
    "for course_dict in courses_list:\n",
    "    id=course_dict[\"id\"]\n",
    "    name=course_dict[\"name\"]\n",
    "    print(f\"{id : <10}{name : >40}\")"
   ]
  },
  {
   "cell_type": "markdown",
   "id": "b4e089ff",
   "metadata": {},
   "source": [
    "**Explanation** :<br> The list - *courses_list* contains dictionaries which store the *id* and *name* of courses which are printed here using for loop and F-strings. "
   ]
  },
  {
   "cell_type": "markdown",
   "id": "959169d6",
   "metadata": {},
   "source": [
    "# Functions for general manipulation"
   ]
  },
  {
   "cell_type": "markdown",
   "id": "ffaec017",
   "metadata": {},
   "source": [
    ">**Probelm** :\n",
    "Write a function with name 'twosc' that will take a single integer\n",
    "as input, and print out the binary representation of the number\n",
    "as output. <br> The function should take one other optional parameter N\n",
    "which represents the number of bits. <br> The final result should always\n",
    "contain N characters as output (either 0 or 1) and should use\n",
    "two's complement to represent the number if it is negative.<br>\n",
    "Examples:<br>\n",
    "twosc(10): 0000000000001010 <br>\n",
    "twosc(-10): 1111111111110110<br>\n",
    "twosc(-20, 8): 11101100<br>\n",
    "Use only functions from the Python standard library to do this."
   ]
  },
  {
   "cell_type": "code",
   "execution_count": 9,
   "id": "fb799573",
   "metadata": {},
   "outputs": [
    {
     "name": "stdout",
     "output_type": "stream",
     "text": [
      "0000000000001010\n",
      "1111111111110110\n",
      "11101100\n"
     ]
    }
   ],
   "source": [
    "def twosc(x, N=16):\n",
    "    #Firstly check if x is an integer.\n",
    "    try:\n",
    "        x=int(x)\n",
    "        bin_string=bin(x)\n",
    "        negative=False\n",
    "        #Process the bin_string to remove the intial \"0b\" or \"-0b\"\n",
    "        if(bin_string[0]=='-'):\n",
    "            bin_string=bin_string[1:]\n",
    "            negative=True\n",
    "        bin_val=bin_string[2:]\n",
    "        #Get the required number of bits N\n",
    "        if(len(bin_val)>N):\n",
    "            processed_string=bin_val[-N:]\n",
    "        else:\n",
    "            l=N-len(bin_val)\n",
    "            processed_string=\"0\"*l+bin_val\n",
    "        #Now deal with it if x is negative\n",
    "        if(negative==True):\n",
    "            #Take 2's Comliment\n",
    "            ones_compliment=\"\"\n",
    "            for i in range(len(processed_string)):\n",
    "                if(processed_string[i]=='0'):\n",
    "                    ones_compliment+=\"1\"\n",
    "                else:\n",
    "                    ones_compliment+=\"0\"\n",
    "            carry=1\n",
    "            twos_compliment=\"\"\n",
    "            for i in range(len(ones_compliment)-1,-1,-1):\n",
    "                if(carry==1):\n",
    "                    if(ones_compliment[i]=='0'):\n",
    "                        twos_compliment='1'+twos_compliment\n",
    "                        carry=0\n",
    "                    else:\n",
    "                        twos_compliment='0'+twos_compliment\n",
    "                        carry=1\n",
    "                else:\n",
    "                    twos_compliment=ones_compliment[i]+twos_compliment\n",
    "            print(twos_compliment)\n",
    "        else:\n",
    "            print(processed_string)\n",
    "    except:\n",
    "        print(f\"{x} is not a integer.\")\n",
    "twosc(10)\n",
    "twosc(-10)\n",
    "twosc(-20,8)"
   ]
  },
  {
   "cell_type": "markdown",
   "id": "30d5b554",
   "metadata": {},
   "source": [
    "**Explanation** : <br> \n",
    "After confirming that the object **x** which is passed as an argument in the function `twosc()` is indeed an *integer*, I used the inbuilt **bin()** function of the *Python Standard Library.*<br>\n",
    "This returns a string - *bin_string* but this string has prefix **'0b'** for positive numbers and **'-0b'** for negative numbers, which have to be removed.<br> Now add extra 0s in the beginning if **N** is greater than the length of this string.<br>\n",
    "\n",
    "Print this string if **x** was positive.<br>\n",
    "Otherwise firstly take *One's Compliment* by replacing 0s with 1s and 1s with 0s.<br>\n",
    "Then Take *Two's Compliment* by adding 1 to the number obtained.<br>\n",
    "This can be done bitwise by checking :\n",
    "- **0 + 1 = 1 (carry = 0)**\n",
    "- **1 + 1 = 0 (carry = 1)**\n",
    "- **1 + 1 + 1 = 1 (carry = 1)**. "
   ]
  },
  {
   "cell_type": "markdown",
   "id": "d9845f63",
   "metadata": {},
   "source": [
    "# List comprehensions and decorators"
   ]
  },
  {
   "cell_type": "markdown",
   "id": "9ccc29ed",
   "metadata": {},
   "source": [
    "> **Problem** : Explain the given code"
   ]
  },
  {
   "cell_type": "code",
   "execution_count": 10,
   "id": "9f573a70-d7f0-4496-926f-34b7cff5492f",
   "metadata": {},
   "outputs": [
    {
     "data": {
      "text/plain": [
       "[0, 4, 16, 36, 64]"
      ]
     },
     "execution_count": 10,
     "metadata": {},
     "output_type": "execute_result"
    }
   ],
   "source": [
    "# Explain the output you see below\n",
    "[x*x for x in range(10) if x%2 == 0]"
   ]
  },
  {
   "cell_type": "markdown",
   "id": "0db78b84",
   "metadata": {},
   "source": [
    "**Explanation** : <br>\n",
    "This statement generates a *list*.\n",
    "\n",
    "Then for statement iterates through all the numbers from *x = 0 to 9*, and the if statement checks whether **x** is even. <br>\n",
    "If **x** is even then **x** times **x** is appened to the list.<br>\n",
    "This method of generating list is called `List Comphrension` and this is used to shorten the code a bit for better aesthetics."
   ]
  },
  {
   "cell_type": "markdown",
   "id": "53379c43",
   "metadata": {},
   "source": [
    ">**Problem** : Explain the given code"
   ]
  },
  {
   "cell_type": "code",
   "execution_count": 11,
   "id": "d34ddb81-5caf-40a7-ac1f-43ce08d64220",
   "metadata": {},
   "outputs": [
    {
     "data": {
      "text/plain": [
       "[1, 2, 3, 4, 5, 6, 7, 8, 9]"
      ]
     },
     "execution_count": 11,
     "metadata": {},
     "output_type": "execute_result"
    }
   ],
   "source": [
    "# Explain the output you see below\n",
    "matrix = [[1,2,3], [4,5,6], [7,8,9]]\n",
    "[v for row in matrix for v in row]"
   ]
  },
  {
   "cell_type": "markdown",
   "id": "cc534e7a",
   "metadata": {},
   "source": [
    "**Explanation** : <br>\n",
    "This statement runs a *nested loop*,  i.e. a loop inside another loop.<br>\n",
    "It iterates through matrix which is a two dimensional list and returns a list *row*. Now the second loop iterates through the elements of the list *row* and appends them to a *list*."
   ]
  },
  {
   "cell_type": "markdown",
   "id": "4f8c0abf",
   "metadata": {},
   "source": [
    "## Prime Numbers"
   ]
  },
  {
   "cell_type": "markdown",
   "id": "5f2b7a1b",
   "metadata": {},
   "source": [
    "> **Problem** : Define a function `is_prime(x)` that will return True if a number is prime, or False otherwise.<br>\n",
    "Use it to write a one-line statement that will print all prime numbers between 1 and 100."
   ]
  },
  {
   "cell_type": "code",
   "execution_count": 12,
   "id": "e7349601-a068-4d91-bc0f-bcc755c4b215",
   "metadata": {},
   "outputs": [
    {
     "name": "stdout",
     "output_type": "stream",
     "text": [
      "2 3 5 7 11 13 17 19 23 29 31 37 41 43 47 53 59 61 67 71 73 79 83 89 97 "
     ]
    }
   ],
   "source": [
    "def is_prime(x):\n",
    "    if(x<2):\n",
    "        return False\n",
    "    i=2\n",
    "    while(True):\n",
    "        if(i*i>x):\n",
    "            break\n",
    "        if(x%i==0):\n",
    "            return False\n",
    "        i+=1\n",
    "    return True\n",
    "\n",
    "for i in range(1,101):\n",
    "    if(is_prime(i)):\n",
    "        print(i,end=\" \")"
   ]
  },
  {
   "cell_type": "markdown",
   "id": "40f257b2",
   "metadata": {},
   "source": [
    "**Explanation** :<br>\n",
    "The function `is_prime()` iterates through all the numbers from 2 to *square root* of n to check if any pair of integers other than 1 and n exists that divides n.\n",
    "And I am calling that function for all number from 1 to 100 to check if they are prime or not. "
   ]
  },
  {
   "cell_type": "markdown",
   "id": "a07f1dbf",
   "metadata": {},
   "source": [
    "## Function as Argument"
   ]
  },
  {
   "cell_type": "markdown",
   "id": "bb2044e2",
   "metadata": {},
   "source": [
    "> **Problem** : Explain the given code "
   ]
  },
  {
   "cell_type": "code",
   "execution_count": 13,
   "id": "3dd1087b-f384-41a2-88d8-6788336d2291",
   "metadata": {},
   "outputs": [
    {
     "name": "stdout",
     "output_type": "stream",
     "text": [
      "Hello happy flappy world\n"
     ]
    }
   ],
   "source": [
    "def f1(x):\n",
    "    return \"happy \" + x\n",
    "def f2(f):\n",
    "    def wrapper(*args, **kwargs):\n",
    "        return \"Hello \" + f(*args, **kwargs) + \" world\"\n",
    "    return wrapper\n",
    "f3 = f2(f1)\n",
    "print(f3(\"flappy\"))"
   ]
  },
  {
   "cell_type": "markdown",
   "id": "25fafeb4",
   "metadata": {},
   "source": [
    "**Explanation** : <br>\n",
    "After defining the fucntions **f1()** and **f2()**, a ***wrapper function*** **f3()** is defined as **f2(f1)**.<br> So the argument passed inside **f3()** will first go in **f1()** and the returned object will go as argument in the function **f2()**.<br>\n",
    "Here \"flappy\" is passed inside f1() to return \"happy flappy\". Now this is passed inside f2().<br><br> \\*args is used to take arguments of variable length and \\*kwargs is used to take key-value arguments of variable length. "
   ]
  },
  {
   "cell_type": "markdown",
   "id": "43687155",
   "metadata": {},
   "source": [
    "> **Problem** : Explain the given code"
   ]
  },
  {
   "cell_type": "code",
   "execution_count": 14,
   "id": "ede870a7-6564-4930-9ff1-818f075c3e43",
   "metadata": {},
   "outputs": [
    {
     "name": "stdout",
     "output_type": "stream",
     "text": [
      "Hello nappy flappy world\n"
     ]
    }
   ],
   "source": [
    "@f2\n",
    "def f4(x):\n",
    "    return \"nappy \" + x\n",
    "\n",
    "print(f4(\"flappy\"))"
   ]
  },
  {
   "cell_type": "markdown",
   "id": "3dcc1c09",
   "metadata": {},
   "source": [
    "**Explanation** : <br>\n",
    "This is a simpler way to implement the same thing as above, by wrapping one function inside the other, using a decorator.<br>Decorators allow us to wrap another function in order to extend the behavior of the wrapped function, without permanently modifying it."
   ]
  },
  {
   "cell_type": "markdown",
   "id": "de144cc1-a06a-4e96-8017-7887296dddc0",
   "metadata": {},
   "source": [
    "# File IO"
   ]
  },
  {
   "cell_type": "markdown",
   "id": "8628b76b",
   "metadata": {},
   "source": [
    "> **Probelm** : Write a function to generate *prime numbers* from **1 to N** (input)\n",
    "and write them to a file (second argument). <br> You can reuse the \n",
    "*prime detection function* written earlier."
   ]
  },
  {
   "cell_type": "code",
   "execution_count": 15,
   "id": "09e62f52-fec6-4026-a4d8-ca4b87b19732",
   "metadata": {},
   "outputs": [
    {
     "name": "stdout",
     "output_type": "stream",
     "text": [
      "Successfully written to the file.\n"
     ]
    }
   ],
   "source": [
    "def write_primes(N, filename):\n",
    "    f=open(filename,\"w\")\n",
    "    for i in range(1,N+1):\n",
    "        if(is_prime(i)):\n",
    "            f.write(str(i)+\" \")\n",
    "    f.close()\n",
    "    print(\"Successfully written to the file.\")\n",
    "write_primes(100,\"prime.txt\")"
   ]
  },
  {
   "cell_type": "markdown",
   "id": "304f148b",
   "metadata": {},
   "source": [
    "**Explanation** : <br>\n",
    "Firstly we create a *file object* (file handle) **f**, which opens the file ***prime.txt*** in **write mode**.<br>\n",
    "If this file does not exists then it creates a new file with that name in write mode.<br>\n",
    "Then it iterates through all number from **1 to N** and prints them to a file if it a prime.<br>\n",
    "The statement *f.close()* closes the file and writes to the file if there is any data in the *buffer* of the file handle."
   ]
  },
  {
   "cell_type": "markdown",
   "id": "9b2de5cb-13c3-4804-9576-e7bb6fd3a371",
   "metadata": {},
   "source": [
    "# Exceptions"
   ]
  },
  {
   "cell_type": "markdown",
   "id": "ac7a4791",
   "metadata": {},
   "source": [
    "> **Problem** : Write a function that takes in a number as input, and prints out \n",
    "whether it is a prime or not.<br>  If the input is not an integer,\n",
    "print an appropriate error message.  <br>Use `exceptions` to detect problems."
   ]
  },
  {
   "cell_type": "code",
   "execution_count": 16,
   "id": "eec5626e-6e92-45bf-b307-2459de0f44e1",
   "metadata": {},
   "outputs": [
    {
     "name": "stdout",
     "output_type": "stream",
     "text": [
      "65 is not prime.\n"
     ]
    }
   ],
   "source": [
    "def check_prime(x):\n",
    "    try:\n",
    "        x=int(x)\n",
    "        if(x<0):\n",
    "            raise Exception\n",
    "        if(is_prime(x)):\n",
    "            print(f\"{x} is prime.\")\n",
    "        else:\n",
    "            print(f\"{x} is not prime.\")\n",
    "    except:\n",
    "        print(f\"{x} is not a positive integer\")\n",
    "x = input('Enter a number: ')\n",
    "check_prime(x)"
   ]
  },
  {
   "cell_type": "markdown",
   "id": "df946af4",
   "metadata": {},
   "source": [
    "**Explanation** : <br>\n",
    "x is taken input as a string.\n",
    "In the function `check_prime()` ,the type conversion to int raises an error if x was a *non integer* object like *float* or *double*. <br>If x is smaller than 0 then also the error is raised.<br>\n",
    "If x is a positive integer then it checks if it is prime or not and prints the corresponding statements."
   ]
  }
 ],
 "metadata": {
  "authors": [
   {
    "name": "Aayush Patel <ee21b003@smail.iitm.ac.in>"
   }
  ],
  "kernelspec": {
   "display_name": "Python 3 (ipykernel)",
   "language": "python",
   "name": "python3"
  },
  "language_info": {
   "codemirror_mode": {
    "name": "ipython",
    "version": 3
   },
   "file_extension": ".py",
   "mimetype": "text/x-python",
   "name": "python",
   "nbconvert_exporter": "python",
   "pygments_lexer": "ipython3",
   "version": "3.10.5"
  },
  "title": "EE2703 - Week 1",
  "toc-autonumbering": true,
  "vscode": {
   "interpreter": {
    "hash": "26de051ba29f2982a8de78e945f0abaf191376122a1563185a90213a26c5da77"
   }
  }
 },
 "nbformat": 4,
 "nbformat_minor": 5
}
