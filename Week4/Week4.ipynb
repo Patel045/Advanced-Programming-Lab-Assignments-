{
 "cells": [
  {
   "attachments": {},
   "cell_type": "markdown",
   "metadata": {},
   "source": [
    "# Instructions:\n",
    "- This is a simple **.ipynb** file just run it in **jupyter notebook** \n",
    "- The program is divided into different function so the previous block of code is required for getting the correct output.\n",
    "- Run the code serially to avoid some unusual output.\n",
    "- The function are well defined.\n",
    "- The code is self explanatory because the variable name are choose as such.\n",
    "- Since the Topological Sort and Event Driven Approach give same output I have written output to one file only."
   ]
  },
  {
   "attachments": {},
   "cell_type": "markdown",
   "metadata": {},
   "source": [
    "## Initialization\n",
    "Import the required Libraries and define all the gate functions."
   ]
  },
  {
   "cell_type": "code",
   "execution_count": 1,
   "metadata": {},
   "outputs": [],
   "source": [
    "import networkx as nx"
   ]
  },
  {
   "cell_type": "code",
   "execution_count": 2,
   "metadata": {},
   "outputs": [],
   "source": [
    "def bufGate(a):\n",
    "    return a\n",
    "\n",
    "def andGate(a,b):\n",
    "    if(a==0 or b==0):\n",
    "        return 0\n",
    "    else:\n",
    "        return 1\n",
    "def orGate(a,b):\n",
    "    if(a==1 or b==1):\n",
    "        return 1\n",
    "    else:\n",
    "        return 0\n",
    "def invGate(a):\n",
    "    if(a==1):\n",
    "        return 0\n",
    "    else:\n",
    "        return 1\n",
    "def norGate(a,b):\n",
    "    if(a==1 or b==1):\n",
    "        return 0\n",
    "    else:\n",
    "        return 1\n",
    "def nandGate(a,b):\n",
    "    if(a==0 or b==0):\n",
    "        return 1\n",
    "    else:\n",
    "        return 0\n",
    "def xorGate(a,b):\n",
    "    if ((a==1 and b==0) or (a==0 and b==1)):\n",
    "        return 1\n",
    "    else:\n",
    "        return 0     \n",
    "def xnorGate(a,b):\n",
    "    if ((a==1 and b==0) or (a==0 and b==1)):\n",
    "        return 0\n",
    "    else:\n",
    "        return 1"
   ]
  },
  {
   "attachments": {},
   "cell_type": "markdown",
   "metadata": {},
   "source": [
    "We define a function to print the netList in a clean manner"
   ]
  },
  {
   "cell_type": "code",
   "execution_count": 3,
   "metadata": {},
   "outputs": [],
   "source": [
    "def displayNET(A):\n",
    "    for i in A:\n",
    "        print(i)"
   ]
  },
  {
   "attachments": {},
   "cell_type": "markdown",
   "metadata": {},
   "source": [
    "## Reading the netlist"
   ]
  },
  {
   "cell_type": "code",
   "execution_count": 4,
   "metadata": {},
   "outputs": [],
   "source": [
    "# Reading the data file\n",
    "def read_netlist(filename):\n",
    "    filename+=\".net\"\n",
    "    with open(filename) as f:\n",
    "        lines = f.readlines()\n",
    "        netList = []\n",
    "        for line in lines:\n",
    "            line = line.split()\n",
    "            netList.append(line)\n",
    "    return netList"
   ]
  },
  {
   "attachments": {},
   "cell_type": "markdown",
   "metadata": {},
   "source": [
    "## Reading the inputs"
   ]
  },
  {
   "cell_type": "code",
   "execution_count": 5,
   "metadata": {},
   "outputs": [],
   "source": [
    "# Reading the input file\n",
    "def read_input(filename):\n",
    "    filename+=\".inputs\"\n",
    "    # print(filename)\n",
    "    with open(filename) as f:\n",
    "        lines = f.readlines()\n",
    "        netInput = []\n",
    "        for line in lines:\n",
    "            line = line.split()\n",
    "            netInput.append(line)\n",
    "    return netInput"
   ]
  },
  {
   "attachments": {},
   "cell_type": "markdown",
   "metadata": {},
   "source": [
    "## Convert netInput to Dictionary for better access to values"
   ]
  },
  {
   "cell_type": "code",
   "execution_count": 6,
   "metadata": {},
   "outputs": [],
   "source": [
    "def get_inputDict(netInput):\n",
    "    inputDict = {}\n",
    "    # print(netInput)\n",
    "    for i in range (len(netInput[0])):\n",
    "        inputDict.update({netInput[0][i]:[]})    \n",
    "    for i in range(1, len(netInput)):\n",
    "        for j in range(len(netInput[0])):\n",
    "            inputDict[netInput[0][j]].append(int(netInput[i][j]))\n",
    "    return inputDict"
   ]
  },
  {
   "attachments": {},
   "cell_type": "markdown",
   "metadata": {},
   "source": [
    "## Defining the parameters of a Node\n",
    "The dictionary `info` stores a node and its parameters i.e. its parent node and the Gate data. <br> Note that it doesn't contain Primary Node parameters because there are no parameters to store."
   ]
  },
  {
   "cell_type": "code",
   "execution_count": 7,
   "metadata": {},
   "outputs": [],
   "source": [
    "def get_infoDict(netList):\n",
    "    info = {}\n",
    "    # print(netList)\n",
    "    for i in netList:\n",
    "        if(i[1].lower() in ['inv','not','buf']):\n",
    "            info.update({i[3]:[i[1],i[2]]})\n",
    "        else:\n",
    "            try:\n",
    "                info.update({i[4]:[i[1],i[2],i[3]]})\n",
    "            except:\n",
    "                print(\"error at \",i)\n",
    "    return info"
   ]
  },
  {
   "attachments": {},
   "cell_type": "markdown",
   "metadata": {},
   "source": [
    "## TOPOLOGICAL SORT FOR CIRCUIT EVALUATION\n",
    "To get the Linear Arrangement of Nodes from the Directed Acyclic Graph, I have used the function `topological_sort()` from the `networkx` module.\n",
    "This list will be iterated one by one to get the required values at the nodes in the net. If the Input Graph is not Acyclic the this function raises an error which is handelled later when this function is called."
   ]
  },
  {
   "cell_type": "code",
   "execution_count": 8,
   "metadata": {},
   "outputs": [],
   "source": [
    "def topo_sort(netList):\n",
    "    g = nx.DiGraph()\n",
    "    for i in netList:\n",
    "        if(i[1].lower() in ['inv','not','buf']):\n",
    "            g.add_edge(i[2],i[3])\n",
    "        else:\n",
    "            g.add_edge(i[2],i[4])\n",
    "            g.add_edge(i[3],i[4])\n",
    "\n",
    "    nl =  list(nx.topological_sort(g))\n",
    "    return nl\n"
   ]
  },
  {
   "attachments": {},
   "cell_type": "markdown",
   "metadata": {},
   "source": [
    "## Solving the DAG (from Topological Sort)\n",
    "Linearly iterate through the Topologically Sorted Array and **keep updating** the values in the child nodes."
   ]
  },
  {
   "cell_type": "code",
   "execution_count": 9,
   "metadata": {},
   "outputs": [],
   "source": [
    "def solve_DAG(netInput,inputDict,info,nl):\n",
    "    all_outputs=[]\n",
    "    \n",
    "    Gates={\n",
    "        'buf':bufGate,\n",
    "        'inv':invGate,\n",
    "        'not':invGate,\n",
    "        'and2':andGate,\n",
    "        'or2':orGate,\n",
    "        'nand2':nandGate,\n",
    "        'nor2':norGate,\n",
    "        'xor2':xorGate,\n",
    "        'xnor2':xnorGate\n",
    "    }\n",
    "    sorted_array=list(nl)\n",
    "    sorted_array.sort()\n",
    "    all_outputs.append(sorted_array)\n",
    "    for i in range (1, len(netInput)):\n",
    "        output = []\n",
    "        outputDict = {}\n",
    "        for j in range (len(nl)):\n",
    "            output.append(None)\n",
    "        for j in range (len(nl)):\n",
    "            if(nl[j] in inputDict.keys()):\n",
    "                output[j] = inputDict[nl[j]][i-1]\n",
    "                outputDict.update({nl[j]:output[j]})\n",
    "            else:\n",
    "                if(info[nl[j]][0].lower() in ['inv','not']):\n",
    "                    output[j] = invGate(outputDict[info[nl[j]][1]])\n",
    "                    outputDict.update({nl[j]:output[j]})\n",
    "                elif(info[nl[j]][0].lower()=='buf'):\n",
    "                    output[j] = bufGate(outputDict[info[nl[j]][1]])\n",
    "                    outputDict.update({nl[j]:output[j]})\n",
    "                else:\n",
    "                    output[j] = Gates[info[nl[j]][0].lower()](outputDict[info[nl[j]][1]],outputDict[info[nl[j]][2]])\n",
    "                    outputDict.update({nl[j]:output[j]})   \n",
    "        sorted_array_output=[]\n",
    "        for i in range(len(sorted_array)):\n",
    "            sorted_array_output.append(outputDict[sorted_array[i]])  \n",
    "        all_outputs.append(sorted_array_output)\n",
    "    return all_outputs\n"
   ]
  },
  {
   "attachments": {},
   "cell_type": "markdown",
   "metadata": {},
   "source": [
    "## EVENT DRIVEN APPROACH\n",
    "Instead of using a topological sort, we could also use queues for updating the states in an event driven approach. \n",
    "<br> To do this, we start with a state table that contains the current state of each net,\n",
    "initialized to -1 at the start of the simulation.<br>\n",
    " We form a queue that tracks the nets whose state has to be re-evaluated.<br><br>\n",
    " Firstly the initialization of -1 is done and child node sof each nodes are calculated. "
   ]
  },
  {
   "cell_type": "code",
   "execution_count": 10,
   "metadata": {},
   "outputs": [],
   "source": [
    "def event_driven_initialization(netList,netInput):\n",
    "    typesOfNodes = set()\n",
    "    primaryNodes = set()\n",
    "    for i in netList:\n",
    "        if(i[1].lower() in ['inv','not','buf']):\n",
    "            typesOfNodes.add(i[2])        \n",
    "            typesOfNodes.add(i[3])\n",
    "        else:\n",
    "            typesOfNodes.add(i[2])        \n",
    "            typesOfNodes.add(i[3])\n",
    "            typesOfNodes.add(i[4])\n",
    "    for i in netInput[0]:\n",
    "        primaryNodes.add(i)\n",
    "    child = {}\n",
    "    answerDict  = {}\n",
    "    for i in typesOfNodes:\n",
    "        child.update({i:[]})\n",
    "        answerDict.update({i:-1})\n",
    "    for i in netList:\n",
    "        if(i[1].lower() in ['inv','not','buf']):\n",
    "            child[i[2]].append(i[3])\n",
    "        else:\n",
    "            child[i[2]].append(i[4])\n",
    "            child[i[3]].append(i[4])\n",
    "    return typesOfNodes,primaryNodes,child,answerDict"
   ]
  },
  {
   "attachments": {},
   "cell_type": "markdown",
   "metadata": {},
   "source": [
    "Now Firstly we get the node states.<br>\n",
    "Then from the second input vector and so on, the states of the primary inputs needs to be updated so we add these to the queue.<br> Then,\n",
    "we dequeue nets from the queue and evaluate the new state.<br> If the new state is different from the\n",
    "current state, the sucessors of the net are added to the queue for evaluation, otherwise nothing is done with respect to that node."
   ]
  },
  {
   "cell_type": "code",
   "execution_count": 11,
   "metadata": {},
   "outputs": [],
   "source": [
    "def event_driven_approach(netInput,inputDict,info,child,answerDict,primaryNodes,typesOfNodes):\n",
    "    all_outputs=[]\n",
    "    typesOfNodes=list(typesOfNodes)\n",
    "    typesOfNodes.sort()\n",
    "    all_outputs.append(typesOfNodes)\n",
    "    inputsize = len(netInput)\n",
    "    Gates={\n",
    "        'buf':bufGate,\n",
    "        'inv':invGate,\n",
    "        'not':invGate,\n",
    "        'and2':andGate,\n",
    "        'or2':orGate,\n",
    "        'nand2':nandGate,\n",
    "        'nor2':norGate,\n",
    "        'xor2':xorGate,\n",
    "        'xnor2':xnorGate\n",
    "    }\n",
    "    noOfPrimaryNodes = len(netInput[0])\n",
    "    for i in range (1,inputsize):\n",
    "        changeQueue = []\n",
    "        if(i>=2):\n",
    "            for j in range (noOfPrimaryNodes):\n",
    "                if(netInput[i][j]!=netInput[i-1][j]):\n",
    "                    changeQueue.append(netInput[0][j])\n",
    "                    answerDict[netInput[0][j]]= -1\n",
    "        else:\n",
    "            for j in primaryNodes:\n",
    "                changeQueue.append(j)\n",
    "        while(len(changeQueue)!=0):\n",
    "            node = changeQueue.pop(0)\n",
    "            if(node in primaryNodes):\n",
    "                answerDict[node] = inputDict[node][i-1]\n",
    "                for j in child[node]:\n",
    "                    changeQueue.append(j)\n",
    "                    answerDict[j]=-1\n",
    "            else:\n",
    "                if(info[node][0].lower() in ['inv','not']):\n",
    "                    if(answerDict[info[node][1]]==-1):\n",
    "                        continue\n",
    "                    else:\n",
    "                        val = invGate(answerDict[info[node][1]])\n",
    "                        answerDict[node] = val\n",
    "                        for j in child[node]:\n",
    "                            changeQueue.append(j)\n",
    "                            answerDict[j]=-1\n",
    "                elif(info[node][0].lower()=='buf'):\n",
    "                    if(answerDict[info[node][1]]==-1):\n",
    "                        continue\n",
    "                    else:\n",
    "                        val = bufGate(answerDict[info[node][1]])\n",
    "                        answerDict[node] = val\n",
    "                        for j in child[node]:\n",
    "                            changeQueue.append(j)\n",
    "                            answerDict[j]=-1\n",
    "                else:\n",
    "                    if(answerDict[info[node][1]]==-1 or answerDict[info[node][2]]==-1):\n",
    "                        continue\n",
    "                    else:\n",
    "                        val = Gates[info[node][0].lower()](answerDict[info[node][1]],answerDict[info[node][2]])\n",
    "                        answerDict[node] = val\n",
    "                        for j in child[node]:\n",
    "                            changeQueue.append(j)\n",
    "                            answerDict[j]=-1\n",
    "        output=list()\n",
    "        for key in answerDict.keys():\n",
    "            output.append(None)\n",
    "        for i in range(len(typesOfNodes)):\n",
    "            output[i]=answerDict[typesOfNodes[i]]\n",
    "        all_outputs.append(output)\n",
    "    return all_outputs\n"
   ]
  },
  {
   "attachments": {},
   "cell_type": "markdown",
   "metadata": {},
   "source": [
    "## Compile All Functions\n",
    "Here we compile all the functions that we have synthsized above.<br> It runs those functions in the systematic order.<br>\n",
    "It prints WRONG .netfile if the .net file has Cycles.<br>\n",
    "Here a comparision of both approaches of the time taken is done.\n",
    "This `solve()` function also prints the summary and write the output to a file, if needed. "
   ]
  },
  {
   "cell_type": "code",
   "execution_count": 12,
   "metadata": {},
   "outputs": [
    {
     "name": "stdout",
     "output_type": "stream",
     "text": [
      "myfile\n",
      "\n",
      "netList :\n",
      "['G0', 'AND2', 'A', 'B', 'D']\n",
      "['G1', 'XOR2', 'B', 'C', 'E']\n",
      "['G2', 'NOT', 'C', 'F']\n",
      "['G3', 'AND2', 'B', 'E', 'G']\n",
      "['G4', 'AND2', 'E', 'F', 'H']\n",
      "['G5', 'OR2', 'D', 'G', 'I']\n",
      "['G6', 'OR2', 'G', 'H', 'J']\n",
      "\n",
      "netInput :\n",
      "['A', 'B', 'C']\n",
      "['1', '1', '1']\n",
      "['0', '1', '1']\n",
      "['0', '1', '0']\n",
      "\n",
      "inputDict : \n",
      "{'A': [1, 0, 0], 'B': [1, 1, 1], 'C': [1, 1, 0]}\n",
      "\n",
      "info :\n",
      "{'D': ['AND2', 'A', 'B'], 'E': ['XOR2', 'B', 'C'], 'F': ['NOT', 'C'], 'G': ['AND2', 'B', 'E'], 'H': ['AND2', 'E', 'F'], 'I': ['OR2', 'D', 'G'], 'J': ['OR2', 'G', 'H']}\n",
      "\n",
      "Nodes in topological order : ['A', 'B', 'C', 'D', 'E', 'F', 'G', 'H', 'I', 'J']\n",
      "\n",
      "Topological Sort Approach : \n"
     ]
    },
    {
     "data": {
      "text/plain": [
       "[['A', 'B', 'C', 'D', 'E', 'F', 'G', 'H', 'I', 'J'],\n",
       " [1, 1, 1, 1, 0, 0, 0, 0, 1, 0],\n",
       " [0, 1, 1, 0, 0, 0, 0, 0, 0, 0],\n",
       " [0, 1, 0, 0, 1, 1, 1, 1, 1, 1]]"
      ]
     },
     "metadata": {},
     "output_type": "display_data"
    },
    {
     "name": "stdout",
     "output_type": "stream",
     "text": [
      "Event Driven Approach : \n"
     ]
    },
    {
     "data": {
      "text/plain": [
       "[['A', 'B', 'C', 'D', 'E', 'F', 'G', 'H', 'I', 'J'],\n",
       " [1, 1, 1, 1, 0, 0, 0, 0, 1, 0],\n",
       " [0, 1, 1, 0, 0, 0, 0, 0, 0, 0],\n",
       " [0, 1, 0, 0, 1, 1, 1, 1, 1, 1]]"
      ]
     },
     "metadata": {},
     "output_type": "display_data"
    },
    {
     "name": "stdout",
     "output_type": "stream",
     "text": [
      "Successful\n",
      "Time taken in Topological Sort (DAG) Method : \n",
      "38.7 µs ± 3.57 µs per loop (mean ± std. dev. of 7 runs, 10,000 loops each)\n",
      "\n",
      "Time taken in Event Driven Method : \n",
      "54.2 µs ± 10.3 µs per loop (mean ± std. dev. of 7 runs, 10,000 loops each)\n"
     ]
    }
   ],
   "source": [
    "def solve(filename,show_summary=True,speed_analysis=True,write_to_file=False):\n",
    "\n",
    "    netList=read_netlist(filename)\n",
    "    try:\n",
    "        nl=topo_sort(netList)\n",
    "    except:\n",
    "        print(\"Wrong .netfile\")\n",
    "        return\n",
    "    \n",
    "    netInput=read_input(filename)\n",
    "    \n",
    "    inputDict=get_inputDict(netInput)\n",
    "    \n",
    "    info=get_infoDict(netList)\n",
    "\n",
    "    all_outputs_topoSort=solve_DAG(netInput,inputDict,info,nl)\n",
    "\n",
    "    typesOfNodes,primaryNodes,child,answerDict=event_driven_initialization(netList,netInput)\n",
    "    all_outputs_eventDriven=event_driven_approach(netInput,inputDict,info,child,answerDict,primaryNodes,typesOfNodes)\n",
    "    \n",
    "    if(show_summary==True):\n",
    "        print(filename)\n",
    "        print()\n",
    "    \n",
    "        print(\"netList :\")\n",
    "        displayNET(netList)\n",
    "        print()\n",
    "\n",
    "        print(\"netInput :\")\n",
    "        displayNET(netInput)\n",
    "        print()\n",
    "\n",
    "        print(f\"inputDict : \\n{inputDict}\")\n",
    "        print()    \n",
    "\n",
    "        print(f\"info :\\n{info}\")\n",
    "        print()\n",
    "\n",
    "        print('Nodes in topological order :', nl)\n",
    "        print()\n",
    "\n",
    "        print(\"Topological Sort Approach : \")\n",
    "        display(all_outputs_topoSort)\n",
    "\n",
    "        print(\"Event Driven Approach : \")\n",
    "        display(all_outputs_eventDriven)\n",
    "\n",
    "        if(all_outputs_topoSort==all_outputs_eventDriven):\n",
    "            print(\"Successful\")\n",
    "        else:\n",
    "            print(\"Wrong Somewhere\")\n",
    "        \n",
    "    if(speed_analysis==True):    \n",
    "        print(\"Time taken in Topological Sort (DAG) Method : \")\n",
    "        %timeit solve_DAG(netInput,inputDict,info,nl)\n",
    "        print()\n",
    "\n",
    "        print(\"Time taken in Event Driven Method : \")\n",
    "        %timeit event_driven_approach(netInput,inputDict,info,child,answerDict,primaryNodes,typesOfNodes)\n",
    "        \n",
    "    if(write_to_file==True):\n",
    "        f=open(filename+\".txt\",\"w\")\n",
    "        # f.writelines(all_outputs_eventDriven)\n",
    "        for row in all_outputs_eventDriven:\n",
    "            for word in row:\n",
    "                f.write(str(word))\n",
    "                f.write(\" \")\n",
    "            f.write(\"\\n\")\n",
    "        f.close()\n",
    "        print(\"Written to File\")\n",
    "        \n",
    "solve(\"myfile\")"
   ]
  },
  {
   "attachments": {},
   "cell_type": "markdown",
   "metadata": {},
   "source": [
    "## Writing the Outputs of the given .net files to .txt files\n",
    "\"Myfile\" is a file created by me to verify the code. <br>\n",
    "Other files were too large so to debug I need a relatievely smaller file."
   ]
  },
  {
   "cell_type": "code",
   "execution_count": 13,
   "metadata": {},
   "outputs": [
    {
     "name": "stdout",
     "output_type": "stream",
     "text": [
      "filename : myfile --> Written to File\n",
      "filename : c8 --> Written to File\n",
      "filename : c17 --> Written to File\n",
      "filename : c17_1 --> Wrong .netfile\n",
      "filename : c432 --> Written to File\n",
      "filename : parity --> Written to File\n"
     ]
    }
   ],
   "source": [
    "files=[\"myfile\",\"c8\",\"c17\",\"c17_1\",\"c432\",\"parity\"]\n",
    "for file in files:\n",
    "    print(\"filename :\",file,end=\" --> \")\n",
    "    solve(file,show_summary=False,speed_analysis=False,write_to_file=True)"
   ]
  },
  {
   "attachments": {},
   "cell_type": "markdown",
   "metadata": {},
   "source": [
    "## Comparision\n",
    "- Speed or efficiency of above used methods depends on the number of input instances(N_i) and number of nets(N_n) in the given circuit.\n",
    "- For N_n > N_i, method using topological sort and multiple round of circuit evaluation is more efficient/faster.\n",
    "- Consider the case N_i = 2 and N_n > 2 such that in two instances, corresponding each primary input is complement of other. So in this case, 2(N_n-N_i) iterations will be taken by topological sort method but event driven simulation will take atleast 2N_n iterations.\n",
    "- But if N_n < N_i, event driven simulation is more efficient/faster.\n",
    "- For reasoning of above statement, we can state that since N_i is very large, almost all possible permutations of inputs are covered so on moving from one input instance to other, changed inputs(which would be less than N_n) will be quite less as N_n is already quite less.\n"
   ]
  },
  {
   "cell_type": "code",
   "execution_count": 14,
   "metadata": {},
   "outputs": [
    {
     "name": "stdout",
     "output_type": "stream",
     "text": [
      "Time taken in Topological Sort (DAG) Method : \n",
      "620 µs ± 19.5 µs per loop (mean ± std. dev. of 7 runs, 1,000 loops each)\n",
      "\n",
      "Time taken in Event Driven Method : \n",
      "1.78 ms ± 62.6 µs per loop (mean ± std. dev. of 7 runs, 1,000 loops each)\n"
     ]
    }
   ],
   "source": [
    "solve(\"c8\",show_summary=False)"
   ]
  },
  {
   "cell_type": "code",
   "execution_count": 15,
   "metadata": {},
   "outputs": [
    {
     "name": "stdout",
     "output_type": "stream",
     "text": [
      "Time taken in Topological Sort (DAG) Method : \n",
      "21 ms ± 2.69 ms per loop (mean ± std. dev. of 7 runs, 10 loops each)\n",
      "\n",
      "Time taken in Event Driven Method : \n",
      "617 ms ± 93.2 ms per loop (mean ± std. dev. of 7 runs, 1 loop each)\n"
     ]
    }
   ],
   "source": [
    "solve(\"c432\",show_summary=False)"
   ]
  },
  {
   "cell_type": "code",
   "execution_count": 16,
   "metadata": {},
   "outputs": [
    {
     "name": "stdout",
     "output_type": "stream",
     "text": [
      "Time taken in Topological Sort (DAG) Method : \n",
      "88.4 µs ± 2.07 µs per loop (mean ± std. dev. of 7 runs, 10,000 loops each)\n",
      "\n",
      "Time taken in Event Driven Method : \n",
      "129 µs ± 5.5 µs per loop (mean ± std. dev. of 7 runs, 10,000 loops each)\n"
     ]
    }
   ],
   "source": [
    "solve(\"c17\",show_summary=False)"
   ]
  },
  {
   "attachments": {},
   "cell_type": "markdown",
   "metadata": {},
   "source": [
    "**Note :** <br>\n",
    "This is completely opposite to our reasoning. But according to my inference I would say that since we are using the function topological sort function which is already very optimized the time take is lesser. But if we were to do DAG Topological Sorting from Scratch it would be taking more time. \n",
    "\n"
   ]
  }
 ],
 "metadata": {
  "kernelspec": {
   "display_name": "Python 3",
   "language": "python",
   "name": "python3"
  },
  "language_info": {
   "codemirror_mode": {
    "name": "ipython",
    "version": 3
   },
   "file_extension": ".py",
   "mimetype": "text/x-python",
   "name": "python",
   "nbconvert_exporter": "python",
   "pygments_lexer": "ipython3",
   "version": "3.10.5"
  },
  "orig_nbformat": 4,
  "vscode": {
   "interpreter": {
    "hash": "26de051ba29f2982a8de78e945f0abaf191376122a1563185a90213a26c5da77"
   }
  }
 },
 "nbformat": 4,
 "nbformat_minor": 2
}
